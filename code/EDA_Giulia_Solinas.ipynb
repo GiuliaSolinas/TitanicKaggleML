{
 "cells": [
  {
   "cell_type": "markdown",
   "source": [
    "# Giulia Solinas - First Assignment: Exploratory Data Analysis\n",
    "\n",
    "- Use case: derive descriptive statistical measures & generate plots.\n",
    "- Data source: https://www.kaggle.com/competitions/titanic/data\n"
   ],
   "metadata": {
    "collapsed": false
   }
  },
  {
   "cell_type": "code",
   "execution_count": 1,
   "outputs": [],
   "source": [
    "# Import packages\n",
    "\n",
    "import numpy as np      # linear algebra and arrays\n",
    "import pandas as pd     # data wrangling\n",
    "\n",
    "%matplotlib inline\n",
    "import matplotlib.pyplot as plt     # data visualization\n",
    "import seaborn as sns               # data visualization\n",
    "\n",
    "from scipy.stats import mode    # to create additional features\n",
    "import string   # to create additional features\n"
   ],
   "metadata": {
    "collapsed": false,
    "ExecuteTime": {
     "end_time": "2023-09-06T14:08:36.468347Z",
     "start_time": "2023-09-06T14:08:36.089291Z"
    }
   }
  },
  {
   "cell_type": "code",
   "execution_count": 2,
   "outputs": [],
   "source": [
    "# Enabling autocompletion in the Jupyther notebook\n",
    "%config IPCompleter.greedy=True"
   ],
   "metadata": {
    "collapsed": false,
    "ExecuteTime": {
     "end_time": "2023-09-06T14:08:36.648303Z",
     "start_time": "2023-09-06T14:08:36.198641Z"
    }
   }
  },
  {
   "cell_type": "markdown",
   "source": [
    "## Load data"
   ],
   "metadata": {
    "collapsed": false
   }
  },
  {
   "cell_type": "code",
   "execution_count": 3,
   "outputs": [],
   "source": [
    "from pathlib import Path\n",
    "cwd        = Path.cwd()\n",
    "dataFolder = Path(cwd.parent , 'data')"
   ],
   "metadata": {
    "collapsed": false,
    "ExecuteTime": {
     "end_time": "2023-09-06T14:08:36.649406Z",
     "start_time": "2023-09-06T14:08:36.215024Z"
    }
   }
  },
  {
   "cell_type": "code",
   "execution_count": 4,
   "outputs": [
    {
     "data": {
      "text/plain": "   PassengerId  Survived  Pclass  \\\n0            1         0       3   \n1            2         1       1   \n2            3         1       3   \n3            4         1       1   \n4            5         0       3   \n\n                                                Name     Sex   Age  SibSp  \\\n0                            Braund, Mr. Owen Harris    male  22.0      1   \n1  Cumings, Mrs. John Bradley (Florence Briggs Th...  female  38.0      1   \n2                             Heikkinen, Miss. Laina  female  26.0      0   \n3       Futrelle, Mrs. Jacques Heath (Lily May Peel)  female  35.0      1   \n4                           Allen, Mr. William Henry    male  35.0      0   \n\n   Parch            Ticket     Fare Cabin Embarked  \n0      0         A/5 21171   7.2500   NaN        S  \n1      0          PC 17599  71.2833   C85        C  \n2      0  STON/O2. 3101282   7.9250   NaN        S  \n3      0            113803  53.1000  C123        S  \n4      0            373450   8.0500   NaN        S  ",
      "text/html": "<div>\n<style scoped>\n    .dataframe tbody tr th:only-of-type {\n        vertical-align: middle;\n    }\n\n    .dataframe tbody tr th {\n        vertical-align: top;\n    }\n\n    .dataframe thead th {\n        text-align: right;\n    }\n</style>\n<table border=\"1\" class=\"dataframe\">\n  <thead>\n    <tr style=\"text-align: right;\">\n      <th></th>\n      <th>PassengerId</th>\n      <th>Survived</th>\n      <th>Pclass</th>\n      <th>Name</th>\n      <th>Sex</th>\n      <th>Age</th>\n      <th>SibSp</th>\n      <th>Parch</th>\n      <th>Ticket</th>\n      <th>Fare</th>\n      <th>Cabin</th>\n      <th>Embarked</th>\n    </tr>\n  </thead>\n  <tbody>\n    <tr>\n      <th>0</th>\n      <td>1</td>\n      <td>0</td>\n      <td>3</td>\n      <td>Braund, Mr. Owen Harris</td>\n      <td>male</td>\n      <td>22.0</td>\n      <td>1</td>\n      <td>0</td>\n      <td>A/5 21171</td>\n      <td>7.2500</td>\n      <td>NaN</td>\n      <td>S</td>\n    </tr>\n    <tr>\n      <th>1</th>\n      <td>2</td>\n      <td>1</td>\n      <td>1</td>\n      <td>Cumings, Mrs. John Bradley (Florence Briggs Th...</td>\n      <td>female</td>\n      <td>38.0</td>\n      <td>1</td>\n      <td>0</td>\n      <td>PC 17599</td>\n      <td>71.2833</td>\n      <td>C85</td>\n      <td>C</td>\n    </tr>\n    <tr>\n      <th>2</th>\n      <td>3</td>\n      <td>1</td>\n      <td>3</td>\n      <td>Heikkinen, Miss. Laina</td>\n      <td>female</td>\n      <td>26.0</td>\n      <td>0</td>\n      <td>0</td>\n      <td>STON/O2. 3101282</td>\n      <td>7.9250</td>\n      <td>NaN</td>\n      <td>S</td>\n    </tr>\n    <tr>\n      <th>3</th>\n      <td>4</td>\n      <td>1</td>\n      <td>1</td>\n      <td>Futrelle, Mrs. Jacques Heath (Lily May Peel)</td>\n      <td>female</td>\n      <td>35.0</td>\n      <td>1</td>\n      <td>0</td>\n      <td>113803</td>\n      <td>53.1000</td>\n      <td>C123</td>\n      <td>S</td>\n    </tr>\n    <tr>\n      <th>4</th>\n      <td>5</td>\n      <td>0</td>\n      <td>3</td>\n      <td>Allen, Mr. William Henry</td>\n      <td>male</td>\n      <td>35.0</td>\n      <td>0</td>\n      <td>0</td>\n      <td>373450</td>\n      <td>8.0500</td>\n      <td>NaN</td>\n      <td>S</td>\n    </tr>\n  </tbody>\n</table>\n</div>"
     },
     "execution_count": 4,
     "metadata": {},
     "output_type": "execute_result"
    }
   ],
   "source": [
    "# train\n",
    "df_train = pd.read_csv(Path(dataFolder, 'train.csv'))\n",
    "df_train.head()"
   ],
   "metadata": {
    "collapsed": false,
    "ExecuteTime": {
     "end_time": "2023-09-06T14:08:36.662287Z",
     "start_time": "2023-09-06T14:08:36.231504Z"
    }
   }
  },
  {
   "cell_type": "code",
   "execution_count": 5,
   "outputs": [
    {
     "data": {
      "text/plain": "   PassengerId  Pclass                                          Name     Sex  \\\n0          892       3                              Kelly, Mr. James    male   \n1          893       3              Wilkes, Mrs. James (Ellen Needs)  female   \n2          894       2                     Myles, Mr. Thomas Francis    male   \n3          895       3                              Wirz, Mr. Albert    male   \n4          896       3  Hirvonen, Mrs. Alexander (Helga E Lindqvist)  female   \n\n    Age  SibSp  Parch   Ticket     Fare Cabin Embarked  \n0  34.5      0      0   330911   7.8292   NaN        Q  \n1  47.0      1      0   363272   7.0000   NaN        S  \n2  62.0      0      0   240276   9.6875   NaN        Q  \n3  27.0      0      0   315154   8.6625   NaN        S  \n4  22.0      1      1  3101298  12.2875   NaN        S  ",
      "text/html": "<div>\n<style scoped>\n    .dataframe tbody tr th:only-of-type {\n        vertical-align: middle;\n    }\n\n    .dataframe tbody tr th {\n        vertical-align: top;\n    }\n\n    .dataframe thead th {\n        text-align: right;\n    }\n</style>\n<table border=\"1\" class=\"dataframe\">\n  <thead>\n    <tr style=\"text-align: right;\">\n      <th></th>\n      <th>PassengerId</th>\n      <th>Pclass</th>\n      <th>Name</th>\n      <th>Sex</th>\n      <th>Age</th>\n      <th>SibSp</th>\n      <th>Parch</th>\n      <th>Ticket</th>\n      <th>Fare</th>\n      <th>Cabin</th>\n      <th>Embarked</th>\n    </tr>\n  </thead>\n  <tbody>\n    <tr>\n      <th>0</th>\n      <td>892</td>\n      <td>3</td>\n      <td>Kelly, Mr. James</td>\n      <td>male</td>\n      <td>34.5</td>\n      <td>0</td>\n      <td>0</td>\n      <td>330911</td>\n      <td>7.8292</td>\n      <td>NaN</td>\n      <td>Q</td>\n    </tr>\n    <tr>\n      <th>1</th>\n      <td>893</td>\n      <td>3</td>\n      <td>Wilkes, Mrs. James (Ellen Needs)</td>\n      <td>female</td>\n      <td>47.0</td>\n      <td>1</td>\n      <td>0</td>\n      <td>363272</td>\n      <td>7.0000</td>\n      <td>NaN</td>\n      <td>S</td>\n    </tr>\n    <tr>\n      <th>2</th>\n      <td>894</td>\n      <td>2</td>\n      <td>Myles, Mr. Thomas Francis</td>\n      <td>male</td>\n      <td>62.0</td>\n      <td>0</td>\n      <td>0</td>\n      <td>240276</td>\n      <td>9.6875</td>\n      <td>NaN</td>\n      <td>Q</td>\n    </tr>\n    <tr>\n      <th>3</th>\n      <td>895</td>\n      <td>3</td>\n      <td>Wirz, Mr. Albert</td>\n      <td>male</td>\n      <td>27.0</td>\n      <td>0</td>\n      <td>0</td>\n      <td>315154</td>\n      <td>8.6625</td>\n      <td>NaN</td>\n      <td>S</td>\n    </tr>\n    <tr>\n      <th>4</th>\n      <td>896</td>\n      <td>3</td>\n      <td>Hirvonen, Mrs. Alexander (Helga E Lindqvist)</td>\n      <td>female</td>\n      <td>22.0</td>\n      <td>1</td>\n      <td>1</td>\n      <td>3101298</td>\n      <td>12.2875</td>\n      <td>NaN</td>\n      <td>S</td>\n    </tr>\n  </tbody>\n</table>\n</div>"
     },
     "execution_count": 5,
     "metadata": {},
     "output_type": "execute_result"
    }
   ],
   "source": [
    "# test\n",
    "df_test = pd.read_csv(Path(dataFolder, 'test.csv'))\n",
    "df_test.head()"
   ],
   "metadata": {
    "collapsed": false,
    "ExecuteTime": {
     "end_time": "2023-09-06T14:08:36.663685Z",
     "start_time": "2023-09-06T14:08:36.308669Z"
    }
   }
  },
  {
   "cell_type": "code",
   "execution_count": 6,
   "outputs": [],
   "source": [
    "# gender\n",
    "df_gender = pd.read_csv(Path(dataFolder, 'gender_submission.csv'))\n",
    "\n",
    "# This dataset is not necessary for the analysis."
   ],
   "metadata": {
    "collapsed": false,
    "ExecuteTime": {
     "end_time": "2023-09-06T14:08:36.664251Z",
     "start_time": "2023-09-06T14:08:36.363283Z"
    }
   }
  },
  {
   "cell_type": "code",
   "execution_count": 7,
   "outputs": [
    {
     "name": "stderr",
     "output_type": "stream",
     "text": [
      "/var/folders/wg/rd3t43dn13x2q5vt0sz8g1cc0000gn/T/ipykernel_19507/3295624958.py:3: FutureWarning: The frame.append method is deprecated and will be removed from pandas in a future version. Use pandas.concat instead.\n",
      "  df_full = df_train.append(df_test, ignore_index= True)\n"
     ]
    }
   ],
   "source": [
    "# create full dataset by appending the train and test\n",
    "# NOTE: the append function will be deprecated and will be removed. In the future, use 'pandas.concat' !!!!\n",
    "df_full = df_train.append(df_test, ignore_index= True)"
   ],
   "metadata": {
    "collapsed": false,
    "ExecuteTime": {
     "end_time": "2023-09-06T14:08:36.665705Z",
     "start_time": "2023-09-06T14:08:36.389427Z"
    }
   }
  },
  {
   "cell_type": "code",
   "execution_count": 8,
   "outputs": [
    {
     "name": "stdout",
     "output_type": "stream",
     "text": [
      "<class 'pandas.core.frame.DataFrame'>\n",
      "RangeIndex: 1309 entries, 0 to 1308\n",
      "Data columns (total 12 columns):\n",
      " #   Column       Non-Null Count  Dtype  \n",
      "---  ------       --------------  -----  \n",
      " 0   PassengerId  1309 non-null   int64  \n",
      " 1   Survived     891 non-null    float64\n",
      " 2   Pclass       1309 non-null   int64  \n",
      " 3   Name         1309 non-null   object \n",
      " 4   Sex          1309 non-null   object \n",
      " 5   Age          1046 non-null   float64\n",
      " 6   SibSp        1309 non-null   int64  \n",
      " 7   Parch        1309 non-null   int64  \n",
      " 8   Ticket       1309 non-null   object \n",
      " 9   Fare         1308 non-null   float64\n",
      " 10  Cabin        295 non-null    object \n",
      " 11  Embarked     1307 non-null   object \n",
      "dtypes: float64(3), int64(4), object(5)\n",
      "memory usage: 122.8+ KB\n"
     ]
    }
   ],
   "source": [
    "df_full.info()"
   ],
   "metadata": {
    "collapsed": false,
    "ExecuteTime": {
     "end_time": "2023-09-06T14:08:36.666618Z",
     "start_time": "2023-09-06T14:08:36.430395Z"
    }
   }
  },
  {
   "cell_type": "markdown",
   "source": [
    "In total, the combined dataset includes 1309 passengers and it is close to the official passengers' number. Exact numbers of those traveling on the Titanic is not known, but the official total of all passengers and crew is 2,229. The approximate number of passengers seems to be 1316 (see here for a list of sources: https://en.wikipedia.org/wiki/Titanic#).\n",
    "\n",
    "The passengers' list features 1309 tickets, but not all ticket owners boarded the ship--here, for example, embarked people are 1307 .\n",
    "\n",
    "The appended `'test'` dataset does not contain information about the survived passengers. Hence, this information is missing also in the full dataset."
   ],
   "metadata": {
    "collapsed": false
   }
  },
  {
   "cell_type": "code",
   "execution_count": 9,
   "outputs": [
    {
     "data": {
      "text/plain": "   PassengerId  Survived  Pclass  \\\n0            1       0.0       3   \n1            2       1.0       1   \n2            3       1.0       3   \n3            4       1.0       1   \n4            5       0.0       3   \n\n                                                Name     Sex   Age  SibSp  \\\n0                            Braund, Mr. Owen Harris    male  22.0      1   \n1  Cumings, Mrs. John Bradley (Florence Briggs Th...  female  38.0      1   \n2                             Heikkinen, Miss. Laina  female  26.0      0   \n3       Futrelle, Mrs. Jacques Heath (Lily May Peel)  female  35.0      1   \n4                           Allen, Mr. William Henry    male  35.0      0   \n\n   Parch            Ticket     Fare Cabin Embarked  \n0      0         A/5 21171   7.2500   NaN        S  \n1      0          PC 17599  71.2833   C85        C  \n2      0  STON/O2. 3101282   7.9250   NaN        S  \n3      0            113803  53.1000  C123        S  \n4      0            373450   8.0500   NaN        S  ",
      "text/html": "<div>\n<style scoped>\n    .dataframe tbody tr th:only-of-type {\n        vertical-align: middle;\n    }\n\n    .dataframe tbody tr th {\n        vertical-align: top;\n    }\n\n    .dataframe thead th {\n        text-align: right;\n    }\n</style>\n<table border=\"1\" class=\"dataframe\">\n  <thead>\n    <tr style=\"text-align: right;\">\n      <th></th>\n      <th>PassengerId</th>\n      <th>Survived</th>\n      <th>Pclass</th>\n      <th>Name</th>\n      <th>Sex</th>\n      <th>Age</th>\n      <th>SibSp</th>\n      <th>Parch</th>\n      <th>Ticket</th>\n      <th>Fare</th>\n      <th>Cabin</th>\n      <th>Embarked</th>\n    </tr>\n  </thead>\n  <tbody>\n    <tr>\n      <th>0</th>\n      <td>1</td>\n      <td>0.0</td>\n      <td>3</td>\n      <td>Braund, Mr. Owen Harris</td>\n      <td>male</td>\n      <td>22.0</td>\n      <td>1</td>\n      <td>0</td>\n      <td>A/5 21171</td>\n      <td>7.2500</td>\n      <td>NaN</td>\n      <td>S</td>\n    </tr>\n    <tr>\n      <th>1</th>\n      <td>2</td>\n      <td>1.0</td>\n      <td>1</td>\n      <td>Cumings, Mrs. John Bradley (Florence Briggs Th...</td>\n      <td>female</td>\n      <td>38.0</td>\n      <td>1</td>\n      <td>0</td>\n      <td>PC 17599</td>\n      <td>71.2833</td>\n      <td>C85</td>\n      <td>C</td>\n    </tr>\n    <tr>\n      <th>2</th>\n      <td>3</td>\n      <td>1.0</td>\n      <td>3</td>\n      <td>Heikkinen, Miss. Laina</td>\n      <td>female</td>\n      <td>26.0</td>\n      <td>0</td>\n      <td>0</td>\n      <td>STON/O2. 3101282</td>\n      <td>7.9250</td>\n      <td>NaN</td>\n      <td>S</td>\n    </tr>\n    <tr>\n      <th>3</th>\n      <td>4</td>\n      <td>1.0</td>\n      <td>1</td>\n      <td>Futrelle, Mrs. Jacques Heath (Lily May Peel)</td>\n      <td>female</td>\n      <td>35.0</td>\n      <td>1</td>\n      <td>0</td>\n      <td>113803</td>\n      <td>53.1000</td>\n      <td>C123</td>\n      <td>S</td>\n    </tr>\n    <tr>\n      <th>4</th>\n      <td>5</td>\n      <td>0.0</td>\n      <td>3</td>\n      <td>Allen, Mr. William Henry</td>\n      <td>male</td>\n      <td>35.0</td>\n      <td>0</td>\n      <td>0</td>\n      <td>373450</td>\n      <td>8.0500</td>\n      <td>NaN</td>\n      <td>S</td>\n    </tr>\n  </tbody>\n</table>\n</div>"
     },
     "execution_count": 9,
     "metadata": {},
     "output_type": "execute_result"
    }
   ],
   "source": [
    "df_full.head()"
   ],
   "metadata": {
    "collapsed": false,
    "ExecuteTime": {
     "end_time": "2023-09-06T14:08:36.667532Z",
     "start_time": "2023-09-06T14:08:36.466782Z"
    }
   }
  },
  {
   "cell_type": "markdown",
   "source": [
    "## Dataset features\n",
    "\n",
    "The dataset provides information about passengers who were aboard the Titanic, including details about their demographics, ticket information, cabin location, and survival status. Here's an explanation of the columns in the Titanic dataset:\n",
    "\n",
    "- PassengerId: A unique identifier for each passenger.\n",
    "- Survived: Indicates whether the passenger survived (1) or did not survive (0).\n",
    "- Pclass: The passenger's class of travel:\n",
    "    - 1 = 1st class.\n",
    "    - 2 = 2nd class.\n",
    "    - 3 = 3rd class.\n",
    "- Name: The name of the passenger.\n",
    "- Sex: The gender of the passenger.\n",
    "- Age: The age of the passenger. This column may have missing values.\n",
    "- SibSp: The number of siblings or spouses traveling with the passenger.\n",
    "- Parch: The number of parents or children traveling with the passenger.\n",
    "- Ticket: The ticket number.\n",
    "- Fare: The fare paid by the passenger.\n",
    "- Cabin: The cabin number where the passenger stayed. This column may have missing values.\n",
    "- Embarked: The port at which the passenger boarded the ship:\n",
    "    - C = Cherbourg, a port in France.\n",
    "    - Q = Queenstown, a port in Ireland.\n",
    "    - S = Southampton, a port in England."
   ],
   "metadata": {
    "collapsed": false
   }
  },
  {
   "cell_type": "markdown",
   "source": [
    "## Understanding the data"
   ],
   "metadata": {
    "collapsed": false
   }
  },
  {
   "cell_type": "code",
   "execution_count": 10,
   "outputs": [
    {
     "name": "stdout",
     "output_type": "stream",
     "text": [
      "<class 'pandas.core.frame.DataFrame'>\n",
      "RangeIndex: 891 entries, 0 to 890\n",
      "Data columns (total 12 columns):\n",
      " #   Column       Non-Null Count  Dtype  \n",
      "---  ------       --------------  -----  \n",
      " 0   PassengerId  891 non-null    int64  \n",
      " 1   Survived     891 non-null    int64  \n",
      " 2   Pclass       891 non-null    int64  \n",
      " 3   Name         891 non-null    object \n",
      " 4   Sex          891 non-null    object \n",
      " 5   Age          714 non-null    float64\n",
      " 6   SibSp        891 non-null    int64  \n",
      " 7   Parch        891 non-null    int64  \n",
      " 8   Ticket       891 non-null    object \n",
      " 9   Fare         891 non-null    float64\n",
      " 10  Cabin        204 non-null    object \n",
      " 11  Embarked     889 non-null    object \n",
      "dtypes: float64(2), int64(5), object(5)\n",
      "memory usage: 83.7+ KB\n"
     ]
    },
    {
     "data": {
      "text/plain": "PassengerId      0\nSurvived         0\nPclass           0\nName             0\nSex              0\nAge            177\nSibSp            0\nParch            0\nTicket           0\nFare             0\nCabin          687\nEmbarked         2\ndtype: int64"
     },
     "execution_count": 10,
     "metadata": {},
     "output_type": "execute_result"
    }
   ],
   "source": [
    "# Inspect the training dataset\n",
    "\n",
    "df_train.info()\n",
    "\n",
    "# checking NAs for train dataframe\n",
    "df_train.isnull().sum()"
   ],
   "metadata": {
    "collapsed": false,
    "ExecuteTime": {
     "end_time": "2023-09-06T14:08:36.825747Z",
     "start_time": "2023-09-06T14:08:36.497079Z"
    }
   }
  },
  {
   "cell_type": "code",
   "execution_count": 11,
   "outputs": [
    {
     "data": {
      "text/plain": "             count unique                      top freq       mean  \\\nPassengerId  891.0    NaN                      NaN  NaN      446.0   \nSurvived     891.0    NaN                      NaN  NaN   0.383838   \nPclass       891.0    NaN                      NaN  NaN   2.308642   \nName           891    891  Braund, Mr. Owen Harris    1        NaN   \nSex            891      2                     male  577        NaN   \nAge          714.0    NaN                      NaN  NaN  29.699118   \nSibSp        891.0    NaN                      NaN  NaN   0.523008   \nParch        891.0    NaN                      NaN  NaN   0.381594   \nTicket         891    681                   347082    7        NaN   \nFare         891.0    NaN                      NaN  NaN  32.204208   \nCabin          204    147                  B96 B98    4        NaN   \nEmbarked       889      3                        S  644        NaN   \n\n                    std   min     25%      50%    75%       max  \nPassengerId  257.353842   1.0   223.5    446.0  668.5     891.0  \nSurvived       0.486592   0.0     0.0      0.0    1.0       1.0  \nPclass         0.836071   1.0     2.0      3.0    3.0       3.0  \nName                NaN   NaN     NaN      NaN    NaN       NaN  \nSex                 NaN   NaN     NaN      NaN    NaN       NaN  \nAge           14.526497  0.42  20.125     28.0   38.0      80.0  \nSibSp          1.102743   0.0     0.0      0.0    1.0       8.0  \nParch          0.806057   0.0     0.0      0.0    0.0       6.0  \nTicket              NaN   NaN     NaN      NaN    NaN       NaN  \nFare          49.693429   0.0  7.9104  14.4542   31.0  512.3292  \nCabin               NaN   NaN     NaN      NaN    NaN       NaN  \nEmbarked            NaN   NaN     NaN      NaN    NaN       NaN  ",
      "text/html": "<div>\n<style scoped>\n    .dataframe tbody tr th:only-of-type {\n        vertical-align: middle;\n    }\n\n    .dataframe tbody tr th {\n        vertical-align: top;\n    }\n\n    .dataframe thead th {\n        text-align: right;\n    }\n</style>\n<table border=\"1\" class=\"dataframe\">\n  <thead>\n    <tr style=\"text-align: right;\">\n      <th></th>\n      <th>count</th>\n      <th>unique</th>\n      <th>top</th>\n      <th>freq</th>\n      <th>mean</th>\n      <th>std</th>\n      <th>min</th>\n      <th>25%</th>\n      <th>50%</th>\n      <th>75%</th>\n      <th>max</th>\n    </tr>\n  </thead>\n  <tbody>\n    <tr>\n      <th>PassengerId</th>\n      <td>891.0</td>\n      <td>NaN</td>\n      <td>NaN</td>\n      <td>NaN</td>\n      <td>446.0</td>\n      <td>257.353842</td>\n      <td>1.0</td>\n      <td>223.5</td>\n      <td>446.0</td>\n      <td>668.5</td>\n      <td>891.0</td>\n    </tr>\n    <tr>\n      <th>Survived</th>\n      <td>891.0</td>\n      <td>NaN</td>\n      <td>NaN</td>\n      <td>NaN</td>\n      <td>0.383838</td>\n      <td>0.486592</td>\n      <td>0.0</td>\n      <td>0.0</td>\n      <td>0.0</td>\n      <td>1.0</td>\n      <td>1.0</td>\n    </tr>\n    <tr>\n      <th>Pclass</th>\n      <td>891.0</td>\n      <td>NaN</td>\n      <td>NaN</td>\n      <td>NaN</td>\n      <td>2.308642</td>\n      <td>0.836071</td>\n      <td>1.0</td>\n      <td>2.0</td>\n      <td>3.0</td>\n      <td>3.0</td>\n      <td>3.0</td>\n    </tr>\n    <tr>\n      <th>Name</th>\n      <td>891</td>\n      <td>891</td>\n      <td>Braund, Mr. Owen Harris</td>\n      <td>1</td>\n      <td>NaN</td>\n      <td>NaN</td>\n      <td>NaN</td>\n      <td>NaN</td>\n      <td>NaN</td>\n      <td>NaN</td>\n      <td>NaN</td>\n    </tr>\n    <tr>\n      <th>Sex</th>\n      <td>891</td>\n      <td>2</td>\n      <td>male</td>\n      <td>577</td>\n      <td>NaN</td>\n      <td>NaN</td>\n      <td>NaN</td>\n      <td>NaN</td>\n      <td>NaN</td>\n      <td>NaN</td>\n      <td>NaN</td>\n    </tr>\n    <tr>\n      <th>Age</th>\n      <td>714.0</td>\n      <td>NaN</td>\n      <td>NaN</td>\n      <td>NaN</td>\n      <td>29.699118</td>\n      <td>14.526497</td>\n      <td>0.42</td>\n      <td>20.125</td>\n      <td>28.0</td>\n      <td>38.0</td>\n      <td>80.0</td>\n    </tr>\n    <tr>\n      <th>SibSp</th>\n      <td>891.0</td>\n      <td>NaN</td>\n      <td>NaN</td>\n      <td>NaN</td>\n      <td>0.523008</td>\n      <td>1.102743</td>\n      <td>0.0</td>\n      <td>0.0</td>\n      <td>0.0</td>\n      <td>1.0</td>\n      <td>8.0</td>\n    </tr>\n    <tr>\n      <th>Parch</th>\n      <td>891.0</td>\n      <td>NaN</td>\n      <td>NaN</td>\n      <td>NaN</td>\n      <td>0.381594</td>\n      <td>0.806057</td>\n      <td>0.0</td>\n      <td>0.0</td>\n      <td>0.0</td>\n      <td>0.0</td>\n      <td>6.0</td>\n    </tr>\n    <tr>\n      <th>Ticket</th>\n      <td>891</td>\n      <td>681</td>\n      <td>347082</td>\n      <td>7</td>\n      <td>NaN</td>\n      <td>NaN</td>\n      <td>NaN</td>\n      <td>NaN</td>\n      <td>NaN</td>\n      <td>NaN</td>\n      <td>NaN</td>\n    </tr>\n    <tr>\n      <th>Fare</th>\n      <td>891.0</td>\n      <td>NaN</td>\n      <td>NaN</td>\n      <td>NaN</td>\n      <td>32.204208</td>\n      <td>49.693429</td>\n      <td>0.0</td>\n      <td>7.9104</td>\n      <td>14.4542</td>\n      <td>31.0</td>\n      <td>512.3292</td>\n    </tr>\n    <tr>\n      <th>Cabin</th>\n      <td>204</td>\n      <td>147</td>\n      <td>B96 B98</td>\n      <td>4</td>\n      <td>NaN</td>\n      <td>NaN</td>\n      <td>NaN</td>\n      <td>NaN</td>\n      <td>NaN</td>\n      <td>NaN</td>\n      <td>NaN</td>\n    </tr>\n    <tr>\n      <th>Embarked</th>\n      <td>889</td>\n      <td>3</td>\n      <td>S</td>\n      <td>644</td>\n      <td>NaN</td>\n      <td>NaN</td>\n      <td>NaN</td>\n      <td>NaN</td>\n      <td>NaN</td>\n      <td>NaN</td>\n      <td>NaN</td>\n    </tr>\n  </tbody>\n</table>\n</div>"
     },
     "execution_count": 11,
     "metadata": {},
     "output_type": "execute_result"
    }
   ],
   "source": [
    "df_train.describe(include='all').T"
   ],
   "metadata": {
    "collapsed": false,
    "ExecuteTime": {
     "end_time": "2023-09-06T14:08:36.829313Z",
     "start_time": "2023-09-06T14:08:36.522792Z"
    }
   }
  },
  {
   "cell_type": "code",
   "execution_count": 12,
   "outputs": [
    {
     "name": "stdout",
     "output_type": "stream",
     "text": [
      "<class 'pandas.core.frame.DataFrame'>\n",
      "RangeIndex: 418 entries, 0 to 417\n",
      "Data columns (total 11 columns):\n",
      " #   Column       Non-Null Count  Dtype  \n",
      "---  ------       --------------  -----  \n",
      " 0   PassengerId  418 non-null    int64  \n",
      " 1   Pclass       418 non-null    int64  \n",
      " 2   Name         418 non-null    object \n",
      " 3   Sex          418 non-null    object \n",
      " 4   Age          332 non-null    float64\n",
      " 5   SibSp        418 non-null    int64  \n",
      " 6   Parch        418 non-null    int64  \n",
      " 7   Ticket       418 non-null    object \n",
      " 8   Fare         417 non-null    float64\n",
      " 9   Cabin        91 non-null     object \n",
      " 10  Embarked     418 non-null    object \n",
      "dtypes: float64(2), int64(4), object(5)\n",
      "memory usage: 36.0+ KB\n"
     ]
    },
    {
     "data": {
      "text/plain": "PassengerId      0\nPclass           0\nName             0\nSex              0\nAge             86\nSibSp            0\nParch            0\nTicket           0\nFare             1\nCabin          327\nEmbarked         0\ndtype: int64"
     },
     "execution_count": 12,
     "metadata": {},
     "output_type": "execute_result"
    }
   ],
   "source": [
    "# Inspect the test dataset\n",
    "\n",
    "df_test.info()\n",
    "\n",
    "# checking NAs for test dataframe\n",
    "df_test.isnull().sum()"
   ],
   "metadata": {
    "collapsed": false,
    "ExecuteTime": {
     "end_time": "2023-09-06T14:08:36.871465Z",
     "start_time": "2023-09-06T14:08:36.661157Z"
    }
   }
  },
  {
   "cell_type": "code",
   "execution_count": 13,
   "outputs": [
    {
     "data": {
      "text/plain": "             count unique               top freq       mean         std  \\\nPassengerId  418.0    NaN               NaN  NaN     1100.5  120.810458   \nPclass       418.0    NaN               NaN  NaN    2.26555    0.841838   \nName           418    418  Kelly, Mr. James    1        NaN         NaN   \nSex            418      2              male  266        NaN         NaN   \nAge          332.0    NaN               NaN  NaN   30.27259   14.181209   \nSibSp        418.0    NaN               NaN  NaN   0.447368     0.89676   \nParch        418.0    NaN               NaN  NaN   0.392344    0.981429   \nTicket         418    363          PC 17608    5        NaN         NaN   \nFare         417.0    NaN               NaN  NaN  35.627188   55.907576   \nCabin           91     76   B57 B59 B63 B66    3        NaN         NaN   \nEmbarked       418      3                 S  270        NaN         NaN   \n\n               min     25%      50%      75%       max  \nPassengerId  892.0  996.25   1100.5  1204.75    1309.0  \nPclass         1.0     1.0      3.0      3.0       3.0  \nName           NaN     NaN      NaN      NaN       NaN  \nSex            NaN     NaN      NaN      NaN       NaN  \nAge           0.17    21.0     27.0     39.0      76.0  \nSibSp          0.0     0.0      0.0      1.0       8.0  \nParch          0.0     0.0      0.0      0.0       9.0  \nTicket         NaN     NaN      NaN      NaN       NaN  \nFare           0.0  7.8958  14.4542     31.5  512.3292  \nCabin          NaN     NaN      NaN      NaN       NaN  \nEmbarked       NaN     NaN      NaN      NaN       NaN  ",
      "text/html": "<div>\n<style scoped>\n    .dataframe tbody tr th:only-of-type {\n        vertical-align: middle;\n    }\n\n    .dataframe tbody tr th {\n        vertical-align: top;\n    }\n\n    .dataframe thead th {\n        text-align: right;\n    }\n</style>\n<table border=\"1\" class=\"dataframe\">\n  <thead>\n    <tr style=\"text-align: right;\">\n      <th></th>\n      <th>count</th>\n      <th>unique</th>\n      <th>top</th>\n      <th>freq</th>\n      <th>mean</th>\n      <th>std</th>\n      <th>min</th>\n      <th>25%</th>\n      <th>50%</th>\n      <th>75%</th>\n      <th>max</th>\n    </tr>\n  </thead>\n  <tbody>\n    <tr>\n      <th>PassengerId</th>\n      <td>418.0</td>\n      <td>NaN</td>\n      <td>NaN</td>\n      <td>NaN</td>\n      <td>1100.5</td>\n      <td>120.810458</td>\n      <td>892.0</td>\n      <td>996.25</td>\n      <td>1100.5</td>\n      <td>1204.75</td>\n      <td>1309.0</td>\n    </tr>\n    <tr>\n      <th>Pclass</th>\n      <td>418.0</td>\n      <td>NaN</td>\n      <td>NaN</td>\n      <td>NaN</td>\n      <td>2.26555</td>\n      <td>0.841838</td>\n      <td>1.0</td>\n      <td>1.0</td>\n      <td>3.0</td>\n      <td>3.0</td>\n      <td>3.0</td>\n    </tr>\n    <tr>\n      <th>Name</th>\n      <td>418</td>\n      <td>418</td>\n      <td>Kelly, Mr. James</td>\n      <td>1</td>\n      <td>NaN</td>\n      <td>NaN</td>\n      <td>NaN</td>\n      <td>NaN</td>\n      <td>NaN</td>\n      <td>NaN</td>\n      <td>NaN</td>\n    </tr>\n    <tr>\n      <th>Sex</th>\n      <td>418</td>\n      <td>2</td>\n      <td>male</td>\n      <td>266</td>\n      <td>NaN</td>\n      <td>NaN</td>\n      <td>NaN</td>\n      <td>NaN</td>\n      <td>NaN</td>\n      <td>NaN</td>\n      <td>NaN</td>\n    </tr>\n    <tr>\n      <th>Age</th>\n      <td>332.0</td>\n      <td>NaN</td>\n      <td>NaN</td>\n      <td>NaN</td>\n      <td>30.27259</td>\n      <td>14.181209</td>\n      <td>0.17</td>\n      <td>21.0</td>\n      <td>27.0</td>\n      <td>39.0</td>\n      <td>76.0</td>\n    </tr>\n    <tr>\n      <th>SibSp</th>\n      <td>418.0</td>\n      <td>NaN</td>\n      <td>NaN</td>\n      <td>NaN</td>\n      <td>0.447368</td>\n      <td>0.89676</td>\n      <td>0.0</td>\n      <td>0.0</td>\n      <td>0.0</td>\n      <td>1.0</td>\n      <td>8.0</td>\n    </tr>\n    <tr>\n      <th>Parch</th>\n      <td>418.0</td>\n      <td>NaN</td>\n      <td>NaN</td>\n      <td>NaN</td>\n      <td>0.392344</td>\n      <td>0.981429</td>\n      <td>0.0</td>\n      <td>0.0</td>\n      <td>0.0</td>\n      <td>0.0</td>\n      <td>9.0</td>\n    </tr>\n    <tr>\n      <th>Ticket</th>\n      <td>418</td>\n      <td>363</td>\n      <td>PC 17608</td>\n      <td>5</td>\n      <td>NaN</td>\n      <td>NaN</td>\n      <td>NaN</td>\n      <td>NaN</td>\n      <td>NaN</td>\n      <td>NaN</td>\n      <td>NaN</td>\n    </tr>\n    <tr>\n      <th>Fare</th>\n      <td>417.0</td>\n      <td>NaN</td>\n      <td>NaN</td>\n      <td>NaN</td>\n      <td>35.627188</td>\n      <td>55.907576</td>\n      <td>0.0</td>\n      <td>7.8958</td>\n      <td>14.4542</td>\n      <td>31.5</td>\n      <td>512.3292</td>\n    </tr>\n    <tr>\n      <th>Cabin</th>\n      <td>91</td>\n      <td>76</td>\n      <td>B57 B59 B63 B66</td>\n      <td>3</td>\n      <td>NaN</td>\n      <td>NaN</td>\n      <td>NaN</td>\n      <td>NaN</td>\n      <td>NaN</td>\n      <td>NaN</td>\n      <td>NaN</td>\n    </tr>\n    <tr>\n      <th>Embarked</th>\n      <td>418</td>\n      <td>3</td>\n      <td>S</td>\n      <td>270</td>\n      <td>NaN</td>\n      <td>NaN</td>\n      <td>NaN</td>\n      <td>NaN</td>\n      <td>NaN</td>\n      <td>NaN</td>\n      <td>NaN</td>\n    </tr>\n  </tbody>\n</table>\n</div>"
     },
     "execution_count": 13,
     "metadata": {},
     "output_type": "execute_result"
    }
   ],
   "source": [
    "df_test.describe(include='all').T"
   ],
   "metadata": {
    "collapsed": false,
    "ExecuteTime": {
     "end_time": "2023-09-06T14:08:37.088425Z",
     "start_time": "2023-09-06T14:08:36.706831Z"
    }
   }
  },
  {
   "cell_type": "code",
   "execution_count": 14,
   "outputs": [],
   "source": [
    "# TODO: cleaning data from NAs"
   ],
   "metadata": {
    "collapsed": false,
    "ExecuteTime": {
     "end_time": "2023-09-06T14:08:37.133978Z",
     "start_time": "2023-09-06T14:08:36.805576Z"
    }
   }
  },
  {
   "cell_type": "code",
   "execution_count": 15,
   "outputs": [],
   "source": [
    "# save the datasets as dataframes and list them\n",
    "# This is a useful step to then use the list for loops or functions\n",
    "\n",
    "df_test = pd.DataFrame(df_test)\n",
    "df_train = pd.DataFrame(df_train)\n",
    "\n",
    "df_list = [df_test, df_train ]"
   ],
   "metadata": {
    "collapsed": false,
    "ExecuteTime": {
     "end_time": "2023-09-06T14:08:37.135680Z",
     "start_time": "2023-09-06T14:08:36.817716Z"
    }
   }
  },
  {
   "cell_type": "markdown",
   "source": [
    "## Imputing NAs\n",
    "- The core variable with missing data is `'Age`'.\n",
    "    - I will impute the missing values by making assumptions on the median age per class.\n",
    "\n",
    "- It is not possible to impute the missing values for the variable `'Cabin`' as this variable applies only to 1st and 2nd class passengers and it is not avaialable for 3rd class passengers."
   ],
   "metadata": {
    "collapsed": false
   }
  },
  {
   "cell_type": "code",
   "execution_count": 16,
   "outputs": [],
   "source": [
    "def preprocess_and_visualize_titles(data):\n",
    "    # Splitting the Name column and extracting titles\n",
    "    title = [i.split(',')[1].split('.')[0].strip() for i in data['Name']]\n",
    "    data['title'] = pd.Series(title)\n",
    "\n",
    "    # Calculate value counts\n",
    "    value_counts = data['title'].value_counts()\n",
    "\n",
    "    # Create subplots\n",
    "    fig, (ax1, ax2) = plt.subplots(1, 2, figsize=(12, 5))\n",
    "\n",
    "    # Subplot 1: Text Display of Value Counts as a Table\n",
    "    cell_text = [[title, count] for title, count in value_counts.items()]\n",
    "    ax1.table(cellText=cell_text, colLabels=['Title', 'Count'], cellLoc='center', loc='center')\n",
    "    ax1.axis('off')  # Turn off axes for text output\n",
    "    ax1.set_title('Value Counts')\n",
    "\n",
    "    # Subplot 2: Count Plot as Bar Plot\n",
    "    sns.countplot(data=data, x='title', ax=ax2)\n",
    "    ax2.set_title('Count Plot')\n",
    "    ax2.set_xticklabels(ax2.get_xticklabels(), rotation=40, ha='right')\n",
    "\n",
    "    plt.show()\n",
    "\n",
    "    # creating variable for social status that takes vale 'high status' for the following titles in parenthesis ('Lady', 'the Countess', 'Countess', 'Capt', 'Col', 'Don', 'Dr', 'Major', 'Rev', 'Sir', 'Jonkheer', 'Dona', 'Master') and 'low status' for the other titles\n",
    "    data['social_status'] = np.where(data['title'].isin(['Lady', 'the Countess', 'Countess', 'Capt', 'Col', 'Don', 'Dr', 'Major', 'Rev', 'Sir', 'Jonkheer', 'Dona', 'Master']), 'high status', 'low status')\n",
    "\n",
    "    # Replacing titles according to specified rules\n",
    "    data[\"title\"] = data[\"title\"].replace(['Lady', 'the Countess', 'Countess', 'Capt', 'Col', 'Don', 'Dr', 'Major', 'Rev', 'Sir', 'Jonkheer', 'Dona'], 'Rare')\n",
    "    data['title'] = data['title'].replace(['Miss', 'Ms', 'Mme', 'Mlle', 'Mrs'], 'Miss/Ms/Mme/Mlle/Mrs')\n",
    "\n",
    "    # Plot distribution of title feature after replacement\n",
    "    sns.set_theme(style=\"darkgrid\")\n",
    "    custom_palette = [\"#F08080\", \"#90EE90\", \"#ADD8E6\", \"#F8B1D0\"]\n",
    "    data['title'].value_counts().plot(kind='bar', color=custom_palette, width=0.3)\n",
    "    plt.title('Distribution of title Feature')\n",
    "    plt.xticks(rotation=0)\n",
    "    plt.xlabel('')\n",
    "    plt.ylabel('count')\n",
    "    plt.show()\n",
    "\n",
    "    return data\n"
   ],
   "metadata": {
    "collapsed": false,
    "ExecuteTime": {
     "end_time": "2023-09-06T14:08:37.259305Z",
     "start_time": "2023-09-06T14:08:36.829897Z"
    }
   }
  },
  {
   "cell_type": "code",
   "execution_count": 17,
   "outputs": [
    {
     "data": {
      "text/plain": "<Figure size 1200x500 with 2 Axes>",
      "image/png": "[encoded data removed]"
     },
     "metadata": {},
     "output_type": "display_data"
    },
    {
     "data": {
      "text/plain": "<Figure size 640x480 with 1 Axes>",
      "image/png": "[encoded data removed]"
     },
     "metadata": {},
     "output_type": "display_data"
    },
    {
     "data": {
      "text/plain": "<Figure size 1200x500 with 2 Axes>",
      "image/png": "[encoded data removed]"
     },
     "metadata": {},
     "output_type": "display_data"
    },
    {
     "data": {
      "text/plain": "<Figure size 640x480 with 1 Axes>",
      "image/png": "[encoded data removed]"
     },
     "metadata": {},
     "output_type": "display_data"
    }
   ],
   "source": [
    "# apllying function to the other two datasets\n",
    "\n",
    "df_train = preprocess_and_visualize_titles(df_train)\n",
    "df_test = preprocess_and_visualize_titles(df_test)\n",
    "\n"
   ],
   "metadata": {
    "collapsed": false,
    "ExecuteTime": {
     "end_time": "2023-09-06T14:08:39.794219Z",
     "start_time": "2023-09-06T14:08:36.870318Z"
    }
   }
  },
  {
   "cell_type": "code",
   "execution_count": 18,
   "outputs": [],
   "source": [
    "# filling age column according to the passenger data with title based median:\n",
    "for df in df_list:\n",
    "    df.loc[(df['title'] == 'Mr') & (df['Age'].isnull()), 'Age'] = df[df['title'] == 'Mr']['Age'].median()\n",
    "    df.loc[(df['title'] == 'Miss/Ms/Mme/Mlle/Mrs') & (df['Age'].isnull()), 'Age'] = df[df['title'] == 'Mr']['Age'].median()\n",
    "    df.loc[(df['title'] == 'Master') & (df['Age'].isnull()), 'Age'] = df[df['title'] == 'Mr']['Age'].median()\n",
    "    df.loc[(df['title'] == 'Rare') & (df['Age'].isnull()), 'Age'] = df[df['title'] == 'Mr']['Age'].median()\n"
   ],
   "metadata": {
    "collapsed": false,
    "ExecuteTime": {
     "end_time": "2023-09-06T14:08:39.901741Z",
     "start_time": "2023-09-06T14:08:39.811003Z"
    }
   }
  },
  {
   "cell_type": "code",
   "execution_count": 19,
   "outputs": [
    {
     "data": {
      "text/plain": "PassengerId        0\nSurvived           0\nPclass             0\nName               0\nSex                0\nAge                0\nSibSp              0\nParch              0\nTicket             0\nFare               0\nCabin            687\nEmbarked           2\ntitle              0\nsocial_status      0\ndtype: int64"
     },
     "execution_count": 19,
     "metadata": {},
     "output_type": "execute_result"
    }
   ],
   "source": [
    "# verifying the NAs\n",
    "df_train.isnull().sum()"
   ],
   "metadata": {
    "collapsed": false,
    "ExecuteTime": {
     "end_time": "2023-09-06T14:08:39.902411Z",
     "start_time": "2023-09-06T14:08:39.840895Z"
    }
   }
  },
  {
   "cell_type": "code",
   "execution_count": 20,
   "outputs": [
    {
     "data": {
      "text/plain": "PassengerId        0\nPclass             0\nName               0\nSex                0\nAge                0\nSibSp              0\nParch              0\nTicket             0\nFare               1\nCabin            327\nEmbarked           0\ntitle              0\nsocial_status      0\ndtype: int64"
     },
     "execution_count": 20,
     "metadata": {},
     "output_type": "execute_result"
    }
   ],
   "source": [
    "df_test.isnull().sum()"
   ],
   "metadata": {
    "collapsed": false,
    "ExecuteTime": {
     "end_time": "2023-09-06T14:08:39.902825Z",
     "start_time": "2023-09-06T14:08:39.860415Z"
    }
   }
  },
  {
   "cell_type": "markdown",
   "source": [
    "## Adding features to the datasets\n",
    "### Family size, fare per person, and age per class"
   ],
   "metadata": {
    "collapsed": false
   }
  },
  {
   "cell_type": "code",
   "execution_count": 21,
   "outputs": [],
   "source": [
    "# Adding features: family size, fares per person, and age per class\n",
    "\n",
    "# Ideas to create these additional features come from the link (https://triangleinequality.wordpress.com/2013/09/08/basic-feature-engineering-with-the-titanic-data/)\n",
    "def add_features(df_train, df_test):\n",
    "    features = {\n",
    "        'Family_Size': ('SibSp', 'Parch', lambda df: df['SibSp'] + df['Parch']),\n",
    "        'Fare_Per_Person': ('Fare', 'Family_Size', lambda df: df['Fare'] / (df['Family_Size'] + 1)),\n",
    "        'Age_Class': ('Age', 'Pclass', lambda df: df['Age'] * df['Pclass'])\n",
    "    }\n",
    "\n",
    "    for df in [df_train, df_test]:\n",
    "        for feature, (col1, col2, func) in features.items():\n",
    "            df[feature] = func(df)\n",
    "\n",
    "    return df_train, df_test\n",
    "\n",
    "\n",
    "# The code above makes the calculation into a single loop and utilizes a dictionary to store the column calculations.\n",
    "\n",
    "df_train, df_test = add_features(df_train, df_test)\n"
   ],
   "metadata": {
    "collapsed": false,
    "ExecuteTime": {
     "end_time": "2023-09-06T14:08:39.903006Z",
     "start_time": "2023-09-06T14:08:39.883067Z"
    }
   }
  },
  {
   "cell_type": "markdown",
   "source": [
    "### Encoding Gender, Social Class, Port and Travel Class"
   ],
   "metadata": {
    "collapsed": false
   }
  },
  {
   "cell_type": "code",
   "execution_count": 22,
   "outputs": [],
   "source": [
    " # copy of the variables Sex, social_status, Embarked and Pclass in both the two datasets df_test and df_training. This is a pre-step to then proceed with the variables encoding.\n",
    "# Define a list of column names and their corresponding data types\n",
    "columns_and_types = [\n",
    "    ('Gender', 'Sex', 'str'),\n",
    "    ('Social_Status', 'social_status', 'str'),\n",
    "    ('Port', 'Embarked', 'str'),\n",
    "    ('Class', 'Pclass', 'int')\n",
    "]\n",
    "\n",
    "# Loop through the list and apply data type conversion to df_train and df_test\n",
    "for new_col, old_col, data_type in columns_and_types:\n",
    "    df_train[new_col] = df_train[old_col].astype(data_type)\n",
    "    df_test[new_col] = df_test[old_col].astype(data_type)\n"
   ],
   "metadata": {
    "collapsed": false,
    "ExecuteTime": {
     "end_time": "2023-09-06T14:08:58.393334Z",
     "start_time": "2023-09-06T14:08:58.367923Z"
    }
   }
  },
  {
   "cell_type": "code",
   "execution_count": 23,
   "outputs": [
    {
     "data": {
      "text/plain": "   PassengerId  Survived                                               Name  \\\n0            1         0                            Braund, Mr. Owen Harris   \n1            2         1  Cumings, Mrs. John Bradley (Florence Briggs Th...   \n2            3         1                             Heikkinen, Miss. Laina   \n3            4         1       Futrelle, Mrs. Jacques Heath (Lily May Peel)   \n4            5         0                           Allen, Mr. William Henry   \n\n      Sex   Age  SibSp  Parch            Ticket     Fare Cabin  ...  \\\n0    male  22.0      1      0         A/5 21171   7.2500   NaN  ...   \n1  female  38.0      1      0          PC 17599  71.2833   C85  ...   \n2  female  26.0      0      0  STON/O2. 3101282   7.9250   NaN  ...   \n3  female  35.0      1      0            113803  53.1000  C123  ...   \n4    male  35.0      0      0            373450   8.0500   NaN  ...   \n\n  Fare_Per_Person Age_Class  Gender  Social_Status  Port Class Embarked_Q  \\\n0         3.62500      66.0    male     low status     S     3          0   \n1        35.64165      38.0  female     low status     C     1          0   \n2         7.92500      78.0  female     low status     S     3          0   \n3        26.55000      35.0  female     low status     S     1          0   \n4         8.05000     105.0    male     low status     S     3          0   \n\n  Embarked_S  Class_2  Class_3  \n0          1        0        1  \n1          0        0        0  \n2          1        0        1  \n3          1        0        0  \n4          1        0        1  \n\n[5 rows x 23 columns]",
      "text/html": "<div>\n<style scoped>\n    .dataframe tbody tr th:only-of-type {\n        vertical-align: middle;\n    }\n\n    .dataframe tbody tr th {\n        vertical-align: top;\n    }\n\n    .dataframe thead th {\n        text-align: right;\n    }\n</style>\n<table border=\"1\" class=\"dataframe\">\n  <thead>\n    <tr style=\"text-align: right;\">\n      <th></th>\n      <th>PassengerId</th>\n      <th>Survived</th>\n      <th>Name</th>\n      <th>Sex</th>\n      <th>Age</th>\n      <th>SibSp</th>\n      <th>Parch</th>\n      <th>Ticket</th>\n      <th>Fare</th>\n      <th>Cabin</th>\n      <th>...</th>\n      <th>Fare_Per_Person</th>\n      <th>Age_Class</th>\n      <th>Gender</th>\n      <th>Social_Status</th>\n      <th>Port</th>\n      <th>Class</th>\n      <th>Embarked_Q</th>\n      <th>Embarked_S</th>\n      <th>Class_2</th>\n      <th>Class_3</th>\n    </tr>\n  </thead>\n  <tbody>\n    <tr>\n      <th>0</th>\n      <td>1</td>\n      <td>0</td>\n      <td>Braund, Mr. Owen Harris</td>\n      <td>male</td>\n      <td>22.0</td>\n      <td>1</td>\n      <td>0</td>\n      <td>A/5 21171</td>\n      <td>7.2500</td>\n      <td>NaN</td>\n      <td>...</td>\n      <td>3.62500</td>\n      <td>66.0</td>\n      <td>male</td>\n      <td>low status</td>\n      <td>S</td>\n      <td>3</td>\n      <td>0</td>\n      <td>1</td>\n      <td>0</td>\n      <td>1</td>\n    </tr>\n    <tr>\n      <th>1</th>\n      <td>2</td>\n      <td>1</td>\n      <td>Cumings, Mrs. John Bradley (Florence Briggs Th...</td>\n      <td>female</td>\n      <td>38.0</td>\n      <td>1</td>\n      <td>0</td>\n      <td>PC 17599</td>\n      <td>71.2833</td>\n      <td>C85</td>\n      <td>...</td>\n      <td>35.64165</td>\n      <td>38.0</td>\n      <td>female</td>\n      <td>low status</td>\n      <td>C</td>\n      <td>1</td>\n      <td>0</td>\n      <td>0</td>\n      <td>0</td>\n      <td>0</td>\n    </tr>\n    <tr>\n      <th>2</th>\n      <td>3</td>\n      <td>1</td>\n      <td>Heikkinen, Miss. Laina</td>\n      <td>female</td>\n      <td>26.0</td>\n      <td>0</td>\n      <td>0</td>\n      <td>STON/O2. 3101282</td>\n      <td>7.9250</td>\n      <td>NaN</td>\n      <td>...</td>\n      <td>7.92500</td>\n      <td>78.0</td>\n      <td>female</td>\n      <td>low status</td>\n      <td>S</td>\n      <td>3</td>\n      <td>0</td>\n      <td>1</td>\n      <td>0</td>\n      <td>1</td>\n    </tr>\n    <tr>\n      <th>3</th>\n      <td>4</td>\n      <td>1</td>\n      <td>Futrelle, Mrs. Jacques Heath (Lily May Peel)</td>\n      <td>female</td>\n      <td>35.0</td>\n      <td>1</td>\n      <td>0</td>\n      <td>113803</td>\n      <td>53.1000</td>\n      <td>C123</td>\n      <td>...</td>\n      <td>26.55000</td>\n      <td>35.0</td>\n      <td>female</td>\n      <td>low status</td>\n      <td>S</td>\n      <td>1</td>\n      <td>0</td>\n      <td>1</td>\n      <td>0</td>\n      <td>0</td>\n    </tr>\n    <tr>\n      <th>4</th>\n      <td>5</td>\n      <td>0</td>\n      <td>Allen, Mr. William Henry</td>\n      <td>male</td>\n      <td>35.0</td>\n      <td>0</td>\n      <td>0</td>\n      <td>373450</td>\n      <td>8.0500</td>\n      <td>NaN</td>\n      <td>...</td>\n      <td>8.05000</td>\n      <td>105.0</td>\n      <td>male</td>\n      <td>low status</td>\n      <td>S</td>\n      <td>3</td>\n      <td>0</td>\n      <td>1</td>\n      <td>0</td>\n      <td>1</td>\n    </tr>\n  </tbody>\n</table>\n<p>5 rows × 23 columns</p>\n</div>"
     },
     "execution_count": 23,
     "metadata": {},
     "output_type": "execute_result"
    }
   ],
   "source": [
    "# Code to encode the variables 'Embarked',  and 'PcClass' in the dataset df_train_encoded. Note that using the get_dummies function, the two orignal variables 'Embarked'  and 'PcClass' are dropped from the dataset df_train_encoded.Hence, I won't use this function.\n",
    "\n",
    "df_train_encoded = df_train.copy()\n",
    "df_train_encoded = pd.get_dummies(df_train, columns=['Embarked', 'Pclass'], prefix=['Embarked', 'Class'], drop_first=True)\n",
    "\n",
    "df_train_encoded.head()\n"
   ],
   "metadata": {
    "collapsed": false,
    "ExecuteTime": {
     "end_time": "2023-09-06T14:10:30.883789Z",
     "start_time": "2023-09-06T14:10:30.838034Z"
    }
   }
  },
  {
   "cell_type": "code",
   "execution_count": 25,
   "outputs": [
    {
     "data": {
      "text/plain": "   PassengerId  Survived  Pclass  \\\n0            1         0       3   \n1            2         1       1   \n2            3         1       3   \n3            4         1       1   \n4            5         0       3   \n\n                                                Name     Sex   Age  SibSp  \\\n0                            Braund, Mr. Owen Harris    male  22.0      1   \n1  Cumings, Mrs. John Bradley (Florence Briggs Th...  female  38.0      1   \n2                             Heikkinen, Miss. Laina  female  26.0      0   \n3       Futrelle, Mrs. Jacques Heath (Lily May Peel)  female  35.0      1   \n4                           Allen, Mr. William Henry    male  35.0      0   \n\n   Parch            Ticket     Fare  ... Gender_male Status_high status  \\\n0      0         A/5 21171   7.2500  ...           1                  0   \n1      0          PC 17599  71.2833  ...           0                  0   \n2      0  STON/O2. 3101282   7.9250  ...           0                  0   \n3      0            113803  53.1000  ...           0                  0   \n4      0            373450   8.0500  ...           1                  0   \n\n  Status_low status Port_C  Port_Q  Port_S  Port_nan  Class_1  Class_2  \\\n0                 1      0       0       1         0        0        0   \n1                 1      1       0       0         0        1        0   \n2                 1      0       0       1         0        0        0   \n3                 1      0       0       1         0        1        0   \n4                 1      0       0       1         0        0        0   \n\n   Class_3  \n0        1  \n1        0  \n2        1  \n3        0  \n4        1  \n\n[5 rows x 28 columns]",
      "text/html": "<div>\n<style scoped>\n    .dataframe tbody tr th:only-of-type {\n        vertical-align: middle;\n    }\n\n    .dataframe tbody tr th {\n        vertical-align: top;\n    }\n\n    .dataframe thead th {\n        text-align: right;\n    }\n</style>\n<table border=\"1\" class=\"dataframe\">\n  <thead>\n    <tr style=\"text-align: right;\">\n      <th></th>\n      <th>PassengerId</th>\n      <th>Survived</th>\n      <th>Pclass</th>\n      <th>Name</th>\n      <th>Sex</th>\n      <th>Age</th>\n      <th>SibSp</th>\n      <th>Parch</th>\n      <th>Ticket</th>\n      <th>Fare</th>\n      <th>...</th>\n      <th>Gender_male</th>\n      <th>Status_high status</th>\n      <th>Status_low status</th>\n      <th>Port_C</th>\n      <th>Port_Q</th>\n      <th>Port_S</th>\n      <th>Port_nan</th>\n      <th>Class_1</th>\n      <th>Class_2</th>\n      <th>Class_3</th>\n    </tr>\n  </thead>\n  <tbody>\n    <tr>\n      <th>0</th>\n      <td>1</td>\n      <td>0</td>\n      <td>3</td>\n      <td>Braund, Mr. Owen Harris</td>\n      <td>male</td>\n      <td>22.0</td>\n      <td>1</td>\n      <td>0</td>\n      <td>A/5 21171</td>\n      <td>7.2500</td>\n      <td>...</td>\n      <td>1</td>\n      <td>0</td>\n      <td>1</td>\n      <td>0</td>\n      <td>0</td>\n      <td>1</td>\n      <td>0</td>\n      <td>0</td>\n      <td>0</td>\n      <td>1</td>\n    </tr>\n    <tr>\n      <th>1</th>\n      <td>2</td>\n      <td>1</td>\n      <td>1</td>\n      <td>Cumings, Mrs. John Bradley (Florence Briggs Th...</td>\n      <td>female</td>\n      <td>38.0</td>\n      <td>1</td>\n      <td>0</td>\n      <td>PC 17599</td>\n      <td>71.2833</td>\n      <td>...</td>\n      <td>0</td>\n      <td>0</td>\n      <td>1</td>\n      <td>1</td>\n      <td>0</td>\n      <td>0</td>\n      <td>0</td>\n      <td>1</td>\n      <td>0</td>\n      <td>0</td>\n    </tr>\n    <tr>\n      <th>2</th>\n      <td>3</td>\n      <td>1</td>\n      <td>3</td>\n      <td>Heikkinen, Miss. Laina</td>\n      <td>female</td>\n      <td>26.0</td>\n      <td>0</td>\n      <td>0</td>\n      <td>STON/O2. 3101282</td>\n      <td>7.9250</td>\n      <td>...</td>\n      <td>0</td>\n      <td>0</td>\n      <td>1</td>\n      <td>0</td>\n      <td>0</td>\n      <td>1</td>\n      <td>0</td>\n      <td>0</td>\n      <td>0</td>\n      <td>1</td>\n    </tr>\n    <tr>\n      <th>3</th>\n      <td>4</td>\n      <td>1</td>\n      <td>1</td>\n      <td>Futrelle, Mrs. Jacques Heath (Lily May Peel)</td>\n      <td>female</td>\n      <td>35.0</td>\n      <td>1</td>\n      <td>0</td>\n      <td>113803</td>\n      <td>53.1000</td>\n      <td>...</td>\n      <td>0</td>\n      <td>0</td>\n      <td>1</td>\n      <td>0</td>\n      <td>0</td>\n      <td>1</td>\n      <td>0</td>\n      <td>1</td>\n      <td>0</td>\n      <td>0</td>\n    </tr>\n    <tr>\n      <th>4</th>\n      <td>5</td>\n      <td>0</td>\n      <td>3</td>\n      <td>Allen, Mr. William Henry</td>\n      <td>male</td>\n      <td>35.0</td>\n      <td>0</td>\n      <td>0</td>\n      <td>373450</td>\n      <td>8.0500</td>\n      <td>...</td>\n      <td>1</td>\n      <td>0</td>\n      <td>1</td>\n      <td>0</td>\n      <td>0</td>\n      <td>1</td>\n      <td>0</td>\n      <td>0</td>\n      <td>0</td>\n      <td>1</td>\n    </tr>\n  </tbody>\n</table>\n<p>5 rows × 28 columns</p>\n</div>"
     },
     "execution_count": 25,
     "metadata": {},
     "output_type": "execute_result"
    }
   ],
   "source": [
    "# encoding the variables 'Gender', 'Social_Status', 'Port'  and 'Class' in the two datasets df_train and df_test. The datasets retain the two original variables 'Embarked'  and 'Pclass'.\n",
    "\n",
    "\n",
    "df_train = pd.get_dummies(df_train, columns=['Gender', 'Social_Status','Port', 'Class'], prefix=['Gender', 'Status','Port', 'Class'], drop_first=False)\n",
    "df_test = pd.get_dummies(df_test, columns=['Gender', 'Social_Status','Port', 'Class'], prefix=['Gender', 'Status','Port', 'Class'], drop_first=False)\n",
    "\n",
    "df_train.head()\n"
   ],
   "metadata": {
    "collapsed": false,
    "ExecuteTime": {
     "end_time": "2023-09-06T14:12:37.045961Z",
     "start_time": "2023-09-06T14:12:36.979559Z"
    }
   }
  },
  {
   "cell_type": "markdown",
   "source": [
    "## Creating summary tables\n",
    "- Summary stats\n",
    "- Correlation table\n",
    "\n",
    "### Training dataset"
   ],
   "metadata": {
    "collapsed": false
   }
  },
  {
   "cell_type": "code",
   "execution_count": 26,
   "outputs": [
    {
     "data": {
      "text/plain": "                    count unique                      top freq       mean  \\\nPassengerId         891.0    NaN                      NaN  NaN      446.0   \nSurvived            891.0    NaN                      NaN  NaN   0.383838   \nPclass              891.0    NaN                      NaN  NaN   2.308642   \nName                  891    891  Braund, Mr. Owen Harris    1        NaN   \nSex                   891      2                     male  577        NaN   \nAge                 891.0    NaN                      NaN  NaN  29.758889   \nSibSp               891.0    NaN                      NaN  NaN   0.523008   \nParch               891.0    NaN                      NaN  NaN   0.381594   \nTicket                891    681                   347082    7        NaN   \nFare                891.0    NaN                      NaN  NaN  32.204208   \nCabin                 204    147                  B96 B98    4        NaN   \nEmbarked              889      3                        S  644        NaN   \ntitle                 891      4                       Mr  517        NaN   \nsocial_status         891      2               low status  828        NaN   \nFamily_Size         891.0    NaN                      NaN  NaN   0.904602   \nFare_Per_Person     891.0    NaN                      NaN  NaN  19.916375   \nAge_Class           891.0    NaN                      NaN  NaN  65.122155   \nGender_female       891.0    NaN                      NaN  NaN   0.352413   \nGender_male         891.0    NaN                      NaN  NaN   0.647587   \nStatus_high status  891.0    NaN                      NaN  NaN   0.070707   \nStatus_low status   891.0    NaN                      NaN  NaN   0.929293   \nPort_C              891.0    NaN                      NaN  NaN   0.188552   \nPort_Q              891.0    NaN                      NaN  NaN    0.08642   \nPort_S              891.0    NaN                      NaN  NaN   0.722783   \nPort_nan            891.0    NaN                      NaN  NaN   0.002245   \nClass_1             891.0    NaN                      NaN  NaN   0.242424   \nClass_2             891.0    NaN                      NaN  NaN    0.20651   \nClass_3             891.0    NaN                      NaN  NaN   0.551066   \n\n                           std   min     25%      50%        75%       max  \nPassengerId         257.353842   1.0   223.5    446.0      668.5     891.0  \nSurvived              0.486592   0.0     0.0      0.0        1.0       1.0  \nPclass                0.836071   1.0     2.0      3.0        3.0       3.0  \nName                       NaN   NaN     NaN      NaN        NaN       NaN  \nSex                        NaN   NaN     NaN      NaN        NaN       NaN  \nAge                   13.00257  0.42    22.0     30.0       35.0      80.0  \nSibSp                 1.102743   0.0     0.0      0.0        1.0       8.0  \nParch                 0.806057   0.0     0.0      0.0        0.0       6.0  \nTicket                     NaN   NaN     NaN      NaN        NaN       NaN  \nFare                 49.693429   0.0  7.9104  14.4542       31.0  512.3292  \nCabin                      NaN   NaN     NaN      NaN        NaN       NaN  \nEmbarked                   NaN   NaN     NaN      NaN        NaN       NaN  \ntitle                      NaN   NaN     NaN      NaN        NaN       NaN  \nsocial_status              NaN   NaN     NaN      NaN        NaN       NaN  \nFamily_Size           1.613459   0.0     0.0      0.0        1.0      10.0  \nFare_Per_Person      35.841257   0.0    7.25      8.3  23.666667  512.3292  \nAge_Class            33.037961  0.92    40.0     63.0       90.0     222.0  \nGender_female          0.47799   0.0     0.0      0.0        1.0       1.0  \nGender_male            0.47799   0.0     0.0      1.0        1.0       1.0  \nStatus_high status    0.256479   0.0     0.0      0.0        0.0       1.0  \nStatus_low status     0.256479   0.0     1.0      1.0        1.0       1.0  \nPort_C                0.391372   0.0     0.0      0.0        0.0       1.0  \nPort_Q                0.281141   0.0     0.0      0.0        0.0       1.0  \nPort_S                0.447876   0.0     0.0      1.0        1.0       1.0  \nPort_nan              0.047351   0.0     0.0      0.0        0.0       1.0  \nClass_1                0.42879   0.0     0.0      0.0        0.0       1.0  \nClass_2               0.405028   0.0     0.0      0.0        0.0       1.0  \nClass_3               0.497665   0.0     0.0      1.0        1.0       1.0  ",
      "text/html": "<div>\n<style scoped>\n    .dataframe tbody tr th:only-of-type {\n        vertical-align: middle;\n    }\n\n    .dataframe tbody tr th {\n        vertical-align: top;\n    }\n\n    .dataframe thead th {\n        text-align: right;\n    }\n</style>\n<table border=\"1\" class=\"dataframe\">\n  <thead>\n    <tr style=\"text-align: right;\">\n      <th></th>\n      <th>count</th>\n      <th>unique</th>\n      <th>top</th>\n      <th>freq</th>\n      <th>mean</th>\n      <th>std</th>\n      <th>min</th>\n      <th>25%</th>\n      <th>50%</th>\n      <th>75%</th>\n      <th>max</th>\n    </tr>\n  </thead>\n  <tbody>\n    <tr>\n      <th>PassengerId</th>\n      <td>891.0</td>\n      <td>NaN</td>\n      <td>NaN</td>\n      <td>NaN</td>\n      <td>446.0</td>\n      <td>257.353842</td>\n      <td>1.0</td>\n      <td>223.5</td>\n      <td>446.0</td>\n      <td>668.5</td>\n      <td>891.0</td>\n    </tr>\n    <tr>\n      <th>Survived</th>\n      <td>891.0</td>\n      <td>NaN</td>\n      <td>NaN</td>\n      <td>NaN</td>\n      <td>0.383838</td>\n      <td>0.486592</td>\n      <td>0.0</td>\n      <td>0.0</td>\n      <td>0.0</td>\n      <td>1.0</td>\n      <td>1.0</td>\n    </tr>\n    <tr>\n      <th>Pclass</th>\n      <td>891.0</td>\n      <td>NaN</td>\n      <td>NaN</td>\n      <td>NaN</td>\n      <td>2.308642</td>\n      <td>0.836071</td>\n      <td>1.0</td>\n      <td>2.0</td>\n      <td>3.0</td>\n      <td>3.0</td>\n      <td>3.0</td>\n    </tr>\n    <tr>\n      <th>Name</th>\n      <td>891</td>\n      <td>891</td>\n      <td>Braund, Mr. Owen Harris</td>\n      <td>1</td>\n      <td>NaN</td>\n      <td>NaN</td>\n      <td>NaN</td>\n      <td>NaN</td>\n      <td>NaN</td>\n      <td>NaN</td>\n      <td>NaN</td>\n    </tr>\n    <tr>\n      <th>Sex</th>\n      <td>891</td>\n      <td>2</td>\n      <td>male</td>\n      <td>577</td>\n      <td>NaN</td>\n      <td>NaN</td>\n      <td>NaN</td>\n      <td>NaN</td>\n      <td>NaN</td>\n      <td>NaN</td>\n      <td>NaN</td>\n    </tr>\n    <tr>\n      <th>Age</th>\n      <td>891.0</td>\n      <td>NaN</td>\n      <td>NaN</td>\n      <td>NaN</td>\n      <td>29.758889</td>\n      <td>13.00257</td>\n      <td>0.42</td>\n      <td>22.0</td>\n      <td>30.0</td>\n      <td>35.0</td>\n      <td>80.0</td>\n    </tr>\n    <tr>\n      <th>SibSp</th>\n      <td>891.0</td>\n      <td>NaN</td>\n      <td>NaN</td>\n      <td>NaN</td>\n      <td>0.523008</td>\n      <td>1.102743</td>\n      <td>0.0</td>\n      <td>0.0</td>\n      <td>0.0</td>\n      <td>1.0</td>\n      <td>8.0</td>\n    </tr>\n    <tr>\n      <th>Parch</th>\n      <td>891.0</td>\n      <td>NaN</td>\n      <td>NaN</td>\n      <td>NaN</td>\n      <td>0.381594</td>\n      <td>0.806057</td>\n      <td>0.0</td>\n      <td>0.0</td>\n      <td>0.0</td>\n      <td>0.0</td>\n      <td>6.0</td>\n    </tr>\n    <tr>\n      <th>Ticket</th>\n      <td>891</td>\n      <td>681</td>\n      <td>347082</td>\n      <td>7</td>\n      <td>NaN</td>\n      <td>NaN</td>\n      <td>NaN</td>\n      <td>NaN</td>\n      <td>NaN</td>\n      <td>NaN</td>\n      <td>NaN</td>\n    </tr>\n    <tr>\n      <th>Fare</th>\n      <td>891.0</td>\n      <td>NaN</td>\n      <td>NaN</td>\n      <td>NaN</td>\n      <td>32.204208</td>\n      <td>49.693429</td>\n      <td>0.0</td>\n      <td>7.9104</td>\n      <td>14.4542</td>\n      <td>31.0</td>\n      <td>512.3292</td>\n    </tr>\n    <tr>\n      <th>Cabin</th>\n      <td>204</td>\n      <td>147</td>\n      <td>B96 B98</td>\n      <td>4</td>\n      <td>NaN</td>\n      <td>NaN</td>\n      <td>NaN</td>\n      <td>NaN</td>\n      <td>NaN</td>\n      <td>NaN</td>\n      <td>NaN</td>\n    </tr>\n    <tr>\n      <th>Embarked</th>\n      <td>889</td>\n      <td>3</td>\n      <td>S</td>\n      <td>644</td>\n      <td>NaN</td>\n      <td>NaN</td>\n      <td>NaN</td>\n      <td>NaN</td>\n      <td>NaN</td>\n      <td>NaN</td>\n      <td>NaN</td>\n    </tr>\n    <tr>\n      <th>title</th>\n      <td>891</td>\n      <td>4</td>\n      <td>Mr</td>\n      <td>517</td>\n      <td>NaN</td>\n      <td>NaN</td>\n      <td>NaN</td>\n      <td>NaN</td>\n      <td>NaN</td>\n      <td>NaN</td>\n      <td>NaN</td>\n    </tr>\n    <tr>\n      <th>social_status</th>\n      <td>891</td>\n      <td>2</td>\n      <td>low status</td>\n      <td>828</td>\n      <td>NaN</td>\n      <td>NaN</td>\n      <td>NaN</td>\n      <td>NaN</td>\n      <td>NaN</td>\n      <td>NaN</td>\n      <td>NaN</td>\n    </tr>\n    <tr>\n      <th>Family_Size</th>\n      <td>891.0</td>\n      <td>NaN</td>\n      <td>NaN</td>\n      <td>NaN</td>\n      <td>0.904602</td>\n      <td>1.613459</td>\n      <td>0.0</td>\n      <td>0.0</td>\n      <td>0.0</td>\n      <td>1.0</td>\n      <td>10.0</td>\n    </tr>\n    <tr>\n      <th>Fare_Per_Person</th>\n      <td>891.0</td>\n      <td>NaN</td>\n      <td>NaN</td>\n      <td>NaN</td>\n      <td>19.916375</td>\n      <td>35.841257</td>\n      <td>0.0</td>\n      <td>7.25</td>\n      <td>8.3</td>\n      <td>23.666667</td>\n      <td>512.3292</td>\n    </tr>\n    <tr>\n      <th>Age_Class</th>\n      <td>891.0</td>\n      <td>NaN</td>\n      <td>NaN</td>\n      <td>NaN</td>\n      <td>65.122155</td>\n      <td>33.037961</td>\n      <td>0.92</td>\n      <td>40.0</td>\n      <td>63.0</td>\n      <td>90.0</td>\n      <td>222.0</td>\n    </tr>\n    <tr>\n      <th>Gender_female</th>\n      <td>891.0</td>\n      <td>NaN</td>\n      <td>NaN</td>\n      <td>NaN</td>\n      <td>0.352413</td>\n      <td>0.47799</td>\n      <td>0.0</td>\n      <td>0.0</td>\n      <td>0.0</td>\n      <td>1.0</td>\n      <td>1.0</td>\n    </tr>\n    <tr>\n      <th>Gender_male</th>\n      <td>891.0</td>\n      <td>NaN</td>\n      <td>NaN</td>\n      <td>NaN</td>\n      <td>0.647587</td>\n      <td>0.47799</td>\n      <td>0.0</td>\n      <td>0.0</td>\n      <td>1.0</td>\n      <td>1.0</td>\n      <td>1.0</td>\n    </tr>\n    <tr>\n      <th>Status_high status</th>\n      <td>891.0</td>\n      <td>NaN</td>\n      <td>NaN</td>\n      <td>NaN</td>\n      <td>0.070707</td>\n      <td>0.256479</td>\n      <td>0.0</td>\n      <td>0.0</td>\n      <td>0.0</td>\n      <td>0.0</td>\n      <td>1.0</td>\n    </tr>\n    <tr>\n      <th>Status_low status</th>\n      <td>891.0</td>\n      <td>NaN</td>\n      <td>NaN</td>\n      <td>NaN</td>\n      <td>0.929293</td>\n      <td>0.256479</td>\n      <td>0.0</td>\n      <td>1.0</td>\n      <td>1.0</td>\n      <td>1.0</td>\n      <td>1.0</td>\n    </tr>\n    <tr>\n      <th>Port_C</th>\n      <td>891.0</td>\n      <td>NaN</td>\n      <td>NaN</td>\n      <td>NaN</td>\n      <td>0.188552</td>\n      <td>0.391372</td>\n      <td>0.0</td>\n      <td>0.0</td>\n      <td>0.0</td>\n      <td>0.0</td>\n      <td>1.0</td>\n    </tr>\n    <tr>\n      <th>Port_Q</th>\n      <td>891.0</td>\n      <td>NaN</td>\n      <td>NaN</td>\n      <td>NaN</td>\n      <td>0.08642</td>\n      <td>0.281141</td>\n      <td>0.0</td>\n      <td>0.0</td>\n      <td>0.0</td>\n      <td>0.0</td>\n      <td>1.0</td>\n    </tr>\n    <tr>\n      <th>Port_S</th>\n      <td>891.0</td>\n      <td>NaN</td>\n      <td>NaN</td>\n      <td>NaN</td>\n      <td>0.722783</td>\n      <td>0.447876</td>\n      <td>0.0</td>\n      <td>0.0</td>\n      <td>1.0</td>\n      <td>1.0</td>\n      <td>1.0</td>\n    </tr>\n    <tr>\n      <th>Port_nan</th>\n      <td>891.0</td>\n      <td>NaN</td>\n      <td>NaN</td>\n      <td>NaN</td>\n      <td>0.002245</td>\n      <td>0.047351</td>\n      <td>0.0</td>\n      <td>0.0</td>\n      <td>0.0</td>\n      <td>0.0</td>\n      <td>1.0</td>\n    </tr>\n    <tr>\n      <th>Class_1</th>\n      <td>891.0</td>\n      <td>NaN</td>\n      <td>NaN</td>\n      <td>NaN</td>\n      <td>0.242424</td>\n      <td>0.42879</td>\n      <td>0.0</td>\n      <td>0.0</td>\n      <td>0.0</td>\n      <td>0.0</td>\n      <td>1.0</td>\n    </tr>\n    <tr>\n      <th>Class_2</th>\n      <td>891.0</td>\n      <td>NaN</td>\n      <td>NaN</td>\n      <td>NaN</td>\n      <td>0.20651</td>\n      <td>0.405028</td>\n      <td>0.0</td>\n      <td>0.0</td>\n      <td>0.0</td>\n      <td>0.0</td>\n      <td>1.0</td>\n    </tr>\n    <tr>\n      <th>Class_3</th>\n      <td>891.0</td>\n      <td>NaN</td>\n      <td>NaN</td>\n      <td>NaN</td>\n      <td>0.551066</td>\n      <td>0.497665</td>\n      <td>0.0</td>\n      <td>0.0</td>\n      <td>1.0</td>\n      <td>1.0</td>\n      <td>1.0</td>\n    </tr>\n  </tbody>\n</table>\n</div>"
     },
     "execution_count": 26,
     "metadata": {},
     "output_type": "execute_result"
    }
   ],
   "source": [
    "df_train.describe(include='all').T"
   ],
   "metadata": {
    "collapsed": false,
    "ExecuteTime": {
     "end_time": "2023-09-06T14:13:39.864317Z",
     "start_time": "2023-09-06T14:13:39.679077Z"
    }
   }
  },
  {
   "cell_type": "markdown",
   "source": [
    " Some variables like `'Name'`, `'Ticket'`, `'Cabin'` are sting variables not meaningful for the analysis and can be dropped in the summary stats.\n",
    "\n",
    "I will create a subset of the original test dataset to produce the summary statistics and the correlation table. I will also re-name some variables to ease the tables' reading."
   ],
   "metadata": {
    "collapsed": false
   }
  },
  {
   "cell_type": "code",
   "execution_count": 27,
   "outputs": [
    {
     "name": "stdout",
     "output_type": "stream",
     "text": [
      "['PassengerId', 'Survived', 'Pclass', 'Name', 'Sex', 'Age', 'SibSp', 'Parch', 'Ticket', 'Fare', 'Cabin', 'Embarked', 'title', 'social_status', 'Family_Size', 'Fare_Per_Person', 'Age_Class', 'Gender_female', 'Gender_male', 'Status_high status', 'Status_low status', 'Port_C', 'Port_Q', 'Port_S', 'Port_nan', 'Class_1', 'Class_2', 'Class_3']\n"
     ]
    }
   ],
   "source": [
    "# subset of train dataset\n",
    "# Print list of variables\n",
    "print(df_train.columns.tolist())"
   ],
   "metadata": {
    "collapsed": false,
    "ExecuteTime": {
     "end_time": "2023-09-06T14:13:48.173753Z",
     "start_time": "2023-09-06T14:13:48.158032Z"
    }
   }
  },
  {
   "cell_type": "code",
   "execution_count": 29,
   "outputs": [],
   "source": [
    "# dataset for stats for the training sample\n",
    "\n",
    "df_train_stats = df_train[['PassengerId', 'Survived', 'Age', 'Ticket', 'Fare', 'Family_Size', 'Fare_Per_Person', 'Age_Class', 'Gender_female', 'Gender_male', 'Status_high status', 'Port_C', 'Port_Q', 'Port_S', 'Class_1', 'Class_2', 'Class_3']]"
   ],
   "metadata": {
    "collapsed": false,
    "ExecuteTime": {
     "end_time": "2023-09-06T14:19:50.698164Z",
     "start_time": "2023-09-06T14:19:50.661973Z"
    }
   }
  },
  {
   "cell_type": "code",
   "execution_count": 36,
   "outputs": [
    {
     "name": "stderr",
     "output_type": "stream",
     "text": [
      "/var/folders/wg/rd3t43dn13x2q5vt0sz8g1cc0000gn/T/ipykernel_19507/71920745.py:2: SettingWithCopyWarning: \n",
      "A value is trying to be set on a copy of a slice from a DataFrame\n",
      "\n",
      "See the caveats in the documentation: https://pandas.pydata.org/pandas-docs/stable/user_guide/indexing.html#returning-a-view-versus-a-copy\n",
      "  df_train_stats.rename(columns={\n"
     ]
    }
   ],
   "source": [
    "# renaming variables for the summary stats table\n",
    "df_train_stats.rename(columns={\n",
    "    'Gender_female': 'Female',\n",
    "    'Gender_male': 'Male',\n",
    "    'Status_high status': 'High status',\n",
    "    'Port_C': 'Cherbourg',\n",
    "    'Port_Q': 'Queenstown',\n",
    "    'Port_S': 'Southampton',\n",
    "}, inplace=True)\n",
    "\n"
   ],
   "metadata": {
    "collapsed": false,
    "ExecuteTime": {
     "end_time": "2023-09-06T14:29:34.953558Z",
     "start_time": "2023-09-06T14:29:34.930774Z"
    }
   }
  },
  {
   "cell_type": "code",
   "execution_count": 34,
   "outputs": [
    {
     "data": {
      "text/plain": "                 count unique     top freq       mean         std   min  \\\nPassengerId      891.0    NaN     NaN  NaN      446.0  257.353842   1.0   \nSurvived         891.0    NaN     NaN  NaN   0.383838    0.486592   0.0   \nAge              891.0    NaN     NaN  NaN  29.758889    13.00257  0.42   \nTicket             891    681  347082    7        NaN         NaN   NaN   \nFare             891.0    NaN     NaN  NaN  32.204208   49.693429   0.0   \nFamily_Size      891.0    NaN     NaN  NaN   0.904602    1.613459   0.0   \nFare_Per_Person  891.0    NaN     NaN  NaN  19.916375   35.841257   0.0   \nAge_Class        891.0    NaN     NaN  NaN  65.122155   33.037961  0.92   \nFemale           891.0    NaN     NaN  NaN   0.352413     0.47799   0.0   \nMale             891.0    NaN     NaN  NaN   0.647587     0.47799   0.0   \nHigh status      891.0    NaN     NaN  NaN   0.070707    0.256479   0.0   \nCherbourg        891.0    NaN     NaN  NaN   0.188552    0.391372   0.0   \nQueenstown       891.0    NaN     NaN  NaN    0.08642    0.281141   0.0   \nSouthampton      891.0    NaN     NaN  NaN   0.722783    0.447876   0.0   \nClass_1          891.0    NaN     NaN  NaN   0.242424     0.42879   0.0   \nClass_2          891.0    NaN     NaN  NaN    0.20651    0.405028   0.0   \nClass_3          891.0    NaN     NaN  NaN   0.551066    0.497665   0.0   \n\n                    25%      50%        75%       max  \nPassengerId       223.5    446.0      668.5     891.0  \nSurvived            0.0      0.0        1.0       1.0  \nAge                22.0     30.0       35.0      80.0  \nTicket              NaN      NaN        NaN       NaN  \nFare             7.9104  14.4542       31.0  512.3292  \nFamily_Size         0.0      0.0        1.0      10.0  \nFare_Per_Person    7.25      8.3  23.666667  512.3292  \nAge_Class          40.0     63.0       90.0     222.0  \nFemale              0.0      0.0        1.0       1.0  \nMale                0.0      1.0        1.0       1.0  \nHigh status         0.0      0.0        0.0       1.0  \nCherbourg           0.0      0.0        0.0       1.0  \nQueenstown          0.0      0.0        0.0       1.0  \nSouthampton         0.0      1.0        1.0       1.0  \nClass_1             0.0      0.0        0.0       1.0  \nClass_2             0.0      0.0        0.0       1.0  \nClass_3             0.0      1.0        1.0       1.0  ",
      "text/html": "<div>\n<style scoped>\n    .dataframe tbody tr th:only-of-type {\n        vertical-align: middle;\n    }\n\n    .dataframe tbody tr th {\n        vertical-align: top;\n    }\n\n    .dataframe thead th {\n        text-align: right;\n    }\n</style>\n<table border=\"1\" class=\"dataframe\">\n  <thead>\n    <tr style=\"text-align: right;\">\n      <th></th>\n      <th>count</th>\n      <th>unique</th>\n      <th>top</th>\n      <th>freq</th>\n      <th>mean</th>\n      <th>std</th>\n      <th>min</th>\n      <th>25%</th>\n      <th>50%</th>\n      <th>75%</th>\n      <th>max</th>\n    </tr>\n  </thead>\n  <tbody>\n    <tr>\n      <th>PassengerId</th>\n      <td>891.0</td>\n      <td>NaN</td>\n      <td>NaN</td>\n      <td>NaN</td>\n      <td>446.0</td>\n      <td>257.353842</td>\n      <td>1.0</td>\n      <td>223.5</td>\n      <td>446.0</td>\n      <td>668.5</td>\n      <td>891.0</td>\n    </tr>\n    <tr>\n      <th>Survived</th>\n      <td>891.0</td>\n      <td>NaN</td>\n      <td>NaN</td>\n      <td>NaN</td>\n      <td>0.383838</td>\n      <td>0.486592</td>\n      <td>0.0</td>\n      <td>0.0</td>\n      <td>0.0</td>\n      <td>1.0</td>\n      <td>1.0</td>\n    </tr>\n    <tr>\n      <th>Age</th>\n      <td>891.0</td>\n      <td>NaN</td>\n      <td>NaN</td>\n      <td>NaN</td>\n      <td>29.758889</td>\n      <td>13.00257</td>\n      <td>0.42</td>\n      <td>22.0</td>\n      <td>30.0</td>\n      <td>35.0</td>\n      <td>80.0</td>\n    </tr>\n    <tr>\n      <th>Ticket</th>\n      <td>891</td>\n      <td>681</td>\n      <td>347082</td>\n      <td>7</td>\n      <td>NaN</td>\n      <td>NaN</td>\n      <td>NaN</td>\n      <td>NaN</td>\n      <td>NaN</td>\n      <td>NaN</td>\n      <td>NaN</td>\n    </tr>\n    <tr>\n      <th>Fare</th>\n      <td>891.0</td>\n      <td>NaN</td>\n      <td>NaN</td>\n      <td>NaN</td>\n      <td>32.204208</td>\n      <td>49.693429</td>\n      <td>0.0</td>\n      <td>7.9104</td>\n      <td>14.4542</td>\n      <td>31.0</td>\n      <td>512.3292</td>\n    </tr>\n    <tr>\n      <th>Family_Size</th>\n      <td>891.0</td>\n      <td>NaN</td>\n      <td>NaN</td>\n      <td>NaN</td>\n      <td>0.904602</td>\n      <td>1.613459</td>\n      <td>0.0</td>\n      <td>0.0</td>\n      <td>0.0</td>\n      <td>1.0</td>\n      <td>10.0</td>\n    </tr>\n    <tr>\n      <th>Fare_Per_Person</th>\n      <td>891.0</td>\n      <td>NaN</td>\n      <td>NaN</td>\n      <td>NaN</td>\n      <td>19.916375</td>\n      <td>35.841257</td>\n      <td>0.0</td>\n      <td>7.25</td>\n      <td>8.3</td>\n      <td>23.666667</td>\n      <td>512.3292</td>\n    </tr>\n    <tr>\n      <th>Age_Class</th>\n      <td>891.0</td>\n      <td>NaN</td>\n      <td>NaN</td>\n      <td>NaN</td>\n      <td>65.122155</td>\n      <td>33.037961</td>\n      <td>0.92</td>\n      <td>40.0</td>\n      <td>63.0</td>\n      <td>90.0</td>\n      <td>222.0</td>\n    </tr>\n    <tr>\n      <th>Female</th>\n      <td>891.0</td>\n      <td>NaN</td>\n      <td>NaN</td>\n      <td>NaN</td>\n      <td>0.352413</td>\n      <td>0.47799</td>\n      <td>0.0</td>\n      <td>0.0</td>\n      <td>0.0</td>\n      <td>1.0</td>\n      <td>1.0</td>\n    </tr>\n    <tr>\n      <th>Male</th>\n      <td>891.0</td>\n      <td>NaN</td>\n      <td>NaN</td>\n      <td>NaN</td>\n      <td>0.647587</td>\n      <td>0.47799</td>\n      <td>0.0</td>\n      <td>0.0</td>\n      <td>1.0</td>\n      <td>1.0</td>\n      <td>1.0</td>\n    </tr>\n    <tr>\n      <th>High status</th>\n      <td>891.0</td>\n      <td>NaN</td>\n      <td>NaN</td>\n      <td>NaN</td>\n      <td>0.070707</td>\n      <td>0.256479</td>\n      <td>0.0</td>\n      <td>0.0</td>\n      <td>0.0</td>\n      <td>0.0</td>\n      <td>1.0</td>\n    </tr>\n    <tr>\n      <th>Cherbourg</th>\n      <td>891.0</td>\n      <td>NaN</td>\n      <td>NaN</td>\n      <td>NaN</td>\n      <td>0.188552</td>\n      <td>0.391372</td>\n      <td>0.0</td>\n      <td>0.0</td>\n      <td>0.0</td>\n      <td>0.0</td>\n      <td>1.0</td>\n    </tr>\n    <tr>\n      <th>Queenstown</th>\n      <td>891.0</td>\n      <td>NaN</td>\n      <td>NaN</td>\n      <td>NaN</td>\n      <td>0.08642</td>\n      <td>0.281141</td>\n      <td>0.0</td>\n      <td>0.0</td>\n      <td>0.0</td>\n      <td>0.0</td>\n      <td>1.0</td>\n    </tr>\n    <tr>\n      <th>Southampton</th>\n      <td>891.0</td>\n      <td>NaN</td>\n      <td>NaN</td>\n      <td>NaN</td>\n      <td>0.722783</td>\n      <td>0.447876</td>\n      <td>0.0</td>\n      <td>0.0</td>\n      <td>1.0</td>\n      <td>1.0</td>\n      <td>1.0</td>\n    </tr>\n    <tr>\n      <th>Class_1</th>\n      <td>891.0</td>\n      <td>NaN</td>\n      <td>NaN</td>\n      <td>NaN</td>\n      <td>0.242424</td>\n      <td>0.42879</td>\n      <td>0.0</td>\n      <td>0.0</td>\n      <td>0.0</td>\n      <td>0.0</td>\n      <td>1.0</td>\n    </tr>\n    <tr>\n      <th>Class_2</th>\n      <td>891.0</td>\n      <td>NaN</td>\n      <td>NaN</td>\n      <td>NaN</td>\n      <td>0.20651</td>\n      <td>0.405028</td>\n      <td>0.0</td>\n      <td>0.0</td>\n      <td>0.0</td>\n      <td>0.0</td>\n      <td>1.0</td>\n    </tr>\n    <tr>\n      <th>Class_3</th>\n      <td>891.0</td>\n      <td>NaN</td>\n      <td>NaN</td>\n      <td>NaN</td>\n      <td>0.551066</td>\n      <td>0.497665</td>\n      <td>0.0</td>\n      <td>0.0</td>\n      <td>1.0</td>\n      <td>1.0</td>\n      <td>1.0</td>\n    </tr>\n  </tbody>\n</table>\n</div>"
     },
     "execution_count": 34,
     "metadata": {},
     "output_type": "execute_result"
    }
   ],
   "source": [
    "df_train_stats.describe(include='all').T"
   ],
   "metadata": {
    "collapsed": false,
    "ExecuteTime": {
     "end_time": "2023-09-06T14:25:48.233351Z",
     "start_time": "2023-09-06T14:25:48.120905Z"
    }
   }
  },
  {
   "cell_type": "code",
   "execution_count": 35,
   "outputs": [
    {
     "data": {
      "text/plain": "                 count    mean     std   min     max\nPassengerId      891.0  446.00  257.35  1.00  891.00\nSurvived         891.0    0.38    0.49  0.00    1.00\nAge              891.0   29.76   13.00  0.42   80.00\nFare             891.0   32.20   49.69  0.00  512.33\nFamily_Size      891.0    0.90    1.61  0.00   10.00\nFare_Per_Person  891.0   19.92   35.84  0.00  512.33\nAge_Class        891.0   65.12   33.04  0.92  222.00\nFemale           891.0    0.35    0.48  0.00    1.00\nMale             891.0    0.65    0.48  0.00    1.00\nHigh status      891.0    0.07    0.26  0.00    1.00\nCherbourg        891.0    0.19    0.39  0.00    1.00\nQueenstown       891.0    0.09    0.28  0.00    1.00\nSouthampton      891.0    0.72    0.45  0.00    1.00\nClass_1          891.0    0.24    0.43  0.00    1.00\nClass_2          891.0    0.21    0.41  0.00    1.00\nClass_3          891.0    0.55    0.50  0.00    1.00",
      "text/html": "<div>\n<style scoped>\n    .dataframe tbody tr th:only-of-type {\n        vertical-align: middle;\n    }\n\n    .dataframe tbody tr th {\n        vertical-align: top;\n    }\n\n    .dataframe thead th {\n        text-align: right;\n    }\n</style>\n<table border=\"1\" class=\"dataframe\">\n  <thead>\n    <tr style=\"text-align: right;\">\n      <th></th>\n      <th>count</th>\n      <th>mean</th>\n      <th>std</th>\n      <th>min</th>\n      <th>max</th>\n    </tr>\n  </thead>\n  <tbody>\n    <tr>\n      <th>PassengerId</th>\n      <td>891.0</td>\n      <td>446.00</td>\n      <td>257.35</td>\n      <td>1.00</td>\n      <td>891.00</td>\n    </tr>\n    <tr>\n      <th>Survived</th>\n      <td>891.0</td>\n      <td>0.38</td>\n      <td>0.49</td>\n      <td>0.00</td>\n      <td>1.00</td>\n    </tr>\n    <tr>\n      <th>Age</th>\n      <td>891.0</td>\n      <td>29.76</td>\n      <td>13.00</td>\n      <td>0.42</td>\n      <td>80.00</td>\n    </tr>\n    <tr>\n      <th>Fare</th>\n      <td>891.0</td>\n      <td>32.20</td>\n      <td>49.69</td>\n      <td>0.00</td>\n      <td>512.33</td>\n    </tr>\n    <tr>\n      <th>Family_Size</th>\n      <td>891.0</td>\n      <td>0.90</td>\n      <td>1.61</td>\n      <td>0.00</td>\n      <td>10.00</td>\n    </tr>\n    <tr>\n      <th>Fare_Per_Person</th>\n      <td>891.0</td>\n      <td>19.92</td>\n      <td>35.84</td>\n      <td>0.00</td>\n      <td>512.33</td>\n    </tr>\n    <tr>\n      <th>Age_Class</th>\n      <td>891.0</td>\n      <td>65.12</td>\n      <td>33.04</td>\n      <td>0.92</td>\n      <td>222.00</td>\n    </tr>\n    <tr>\n      <th>Female</th>\n      <td>891.0</td>\n      <td>0.35</td>\n      <td>0.48</td>\n      <td>0.00</td>\n      <td>1.00</td>\n    </tr>\n    <tr>\n      <th>Male</th>\n      <td>891.0</td>\n      <td>0.65</td>\n      <td>0.48</td>\n      <td>0.00</td>\n      <td>1.00</td>\n    </tr>\n    <tr>\n      <th>High status</th>\n      <td>891.0</td>\n      <td>0.07</td>\n      <td>0.26</td>\n      <td>0.00</td>\n      <td>1.00</td>\n    </tr>\n    <tr>\n      <th>Cherbourg</th>\n      <td>891.0</td>\n      <td>0.19</td>\n      <td>0.39</td>\n      <td>0.00</td>\n      <td>1.00</td>\n    </tr>\n    <tr>\n      <th>Queenstown</th>\n      <td>891.0</td>\n      <td>0.09</td>\n      <td>0.28</td>\n      <td>0.00</td>\n      <td>1.00</td>\n    </tr>\n    <tr>\n      <th>Southampton</th>\n      <td>891.0</td>\n      <td>0.72</td>\n      <td>0.45</td>\n      <td>0.00</td>\n      <td>1.00</td>\n    </tr>\n    <tr>\n      <th>Class_1</th>\n      <td>891.0</td>\n      <td>0.24</td>\n      <td>0.43</td>\n      <td>0.00</td>\n      <td>1.00</td>\n    </tr>\n    <tr>\n      <th>Class_2</th>\n      <td>891.0</td>\n      <td>0.21</td>\n      <td>0.41</td>\n      <td>0.00</td>\n      <td>1.00</td>\n    </tr>\n    <tr>\n      <th>Class_3</th>\n      <td>891.0</td>\n      <td>0.55</td>\n      <td>0.50</td>\n      <td>0.00</td>\n      <td>1.00</td>\n    </tr>\n  </tbody>\n</table>\n</div>"
     },
     "execution_count": 35,
     "metadata": {},
     "output_type": "execute_result"
    }
   ],
   "source": [
    "# simpified table used for explanatory purposes\n",
    "\n",
    "np.round(df_train_stats.describe(), 2).T[['count','mean', 'std', 'min', 'max']]"
   ],
   "metadata": {
    "collapsed": false,
    "ExecuteTime": {
     "end_time": "2023-09-06T14:28:33.809665Z",
     "start_time": "2023-09-06T14:28:33.722345Z"
    }
   }
  },
  {
   "cell_type": "markdown",
   "source": [
    "#### Exporting table in Latex format"
   ],
   "metadata": {
    "collapsed": false
   }
  },
  {
   "cell_type": "code",
   "execution_count": 42,
   "outputs": [
    {
     "name": "stderr",
     "output_type": "stream",
     "text": [
      "/var/folders/wg/rd3t43dn13x2q5vt0sz8g1cc0000gn/T/ipykernel_19507/2531543407.py:2: FutureWarning: In future versions `DataFrame.to_latex` is expected to utilise the base implementation of `Styler.to_latex` for formatting and rendering. The arguments signature may therefore change. It is recommended instead to use `DataFrame.style.to_latex` which also contains additional functionality.\n",
      "  df_train_stats.describe(include='all').T.to_latex(Path(cwd.parent, 'output', 'summary_stats_train.tex'))\n"
     ]
    }
   ],
   "source": [
    "# Exporting table in Latex format and save it in the output folder within the project folder\n",
    "df_train_stats.describe(include='all').T.to_latex(Path(cwd.parent, 'output', 'summary_stats_train.tex'))"
   ],
   "metadata": {
    "collapsed": false,
    "ExecuteTime": {
     "end_time": "2023-09-06T14:51:41.148524Z",
     "start_time": "2023-09-06T14:51:41.068233Z"
    }
   }
  },
  {
   "cell_type": "markdown",
   "source": [
    "### Test dataset"
   ],
   "metadata": {
    "collapsed": false
   }
  },
  {
   "cell_type": "code",
   "execution_count": null,
   "outputs": [],
   "source": [
    "df_test.describe(include='all').T"
   ],
   "metadata": {
    "collapsed": false
   }
  },
  {
   "cell_type": "markdown",
   "source": [
    "#### Exporting table in Latex format"
   ],
   "metadata": {
    "collapsed": false
   }
  },
  {
   "cell_type": "code",
   "execution_count": null,
   "outputs": [],
   "source": [
    "# Exporting table in Latex format and save it in the output folder within the project folder\n",
    "df_test.describe(include='all').T.to_latex(Path(cwd.parent, 'output', 'summary_stats_test.tex'))"
   ],
   "metadata": {
    "collapsed": false
   }
  },
  {
   "cell_type": "markdown",
   "source": [
    "### Correlation table"
   ],
   "metadata": {
    "collapsed": false
   }
  },
  {
   "cell_type": "code",
   "execution_count": null,
   "outputs": [],
   "source": [
    "# Correlation table for the training dataset\n",
    "\n",
    "df_train_stats.corr()"
   ],
   "metadata": {
    "collapsed": false
   }
  },
  {
   "cell_type": "code",
   "execution_count": null,
   "outputs": [],
   "source": [
    "# Correlation table for the test dataset\n",
    "\n",
    "df_test.corr()"
   ],
   "metadata": {
    "collapsed": false
   }
  },
  {
   "cell_type": "markdown",
   "source": [
    "#### Exporting table in Latex format"
   ],
   "metadata": {
    "collapsed": false
   }
  },
  {
   "cell_type": "code",
   "execution_count": null,
   "outputs": [],
   "source": [
    "# Exporting table in Latex format and save it in the output folder within the project folder\n",
    "df_train_stats.corr().to_latex(Path(cwd.parent, 'output', 'correlation_table_train.tex'))"
   ],
   "metadata": {
    "collapsed": false
   }
  },
  {
   "cell_type": "markdown",
   "source": [
    "### Correlation table"
   ],
   "metadata": {
    "collapsed": false
   }
  },
  {
   "cell_type": "code",
   "execution_count": null,
   "outputs": [],
   "source": [
    "# Correlation table for the training dataset\n",
    "\n",
    "df_train_stats.corr()"
   ],
   "metadata": {
    "collapsed": false
   }
  },
  {
   "cell_type": "code",
   "execution_count": null,
   "outputs": [],
   "source": [
    "# Correlation table for the test dataset\n",
    "\n",
    "df_test.corr()"
   ],
   "metadata": {
    "collapsed": false
   }
  },
  {
   "cell_type": "markdown",
   "source": [
    "#### Exporting table in Latex format"
   ],
   "metadata": {
    "collapsed": false
   }
  },
  {
   "cell_type": "code",
   "execution_count": null,
   "outputs": [],
   "source": [
    "# Exporting table in Latex format and save it in the output folder within the project folder\n",
    "df_train_stats.corr().to_latex(Path(cwd.parent, 'output', 'correlation_table_train.tex'))"
   ],
   "metadata": {
    "collapsed": false
   }
  },
  {
   "cell_type": "markdown",
   "source": [
    "#### Exporting table in Latex format"
   ],
   "metadata": {
    "collapsed": false
   }
  },
  {
   "cell_type": "code",
   "execution_count": null,
   "outputs": [],
   "source": [
    "# Exporting table in Latex format and save it in the output folder within the project folder\n",
    "df_test.corr().to_latex(Path(cwd.parent, 'output', 'correlation_table_test.tex'))"
   ],
   "metadata": {
    "collapsed": false
   }
  },
  {
   "cell_type": "markdown",
   "source": [
    "### Summary stats for survived and not survived passengers"
   ],
   "metadata": {
    "collapsed": false
   }
  },
  {
   "cell_type": "code",
   "execution_count": null,
   "outputs": [],
   "source": [
    "# Summary stats for survived and not survived passengers in the training dataset\n",
    "\n",
    "df_train_stats.groupby('Survived').describe(include='all').T"
   ],
   "metadata": {
    "collapsed": false
   }
  },
  {
   "cell_type": "markdown",
   "source": [
    "#### Exporting table in Latex format"
   ],
   "metadata": {
    "collapsed": false
   }
  },
  {
   "cell_type": "code",
   "execution_count": null,
   "outputs": [],
   "source": [
    "# Exporting table in Latex format and save it in the output folder within the project folder\n",
    "df_train_stats.groupby('Survived').describe(include='all').T.to_latex(Path(cwd.parent, 'output', 'summary_stats_train_survived.tex'))"
   ],
   "metadata": {
    "collapsed": false
   }
  },
  {
   "cell_type": "markdown",
   "source": [
    "### Summary stats for survived and not survived passengers"
   ],
   "metadata": {
    "collapsed": false
   }
  },
  {
   "cell_type": "code",
   "execution_count": null,
   "outputs": [],
   "source": [
    "# Summary stats for survived and not survived passengers in the training dataset\n",
    "\n",
    "df_train_stats.groupby('Survived').describe(include='all').T"
   ],
   "metadata": {
    "collapsed": false
   }
  },
  {
   "cell_type": "markdown",
   "source": [
    "#### Exporting table in Latex format"
   ],
   "metadata": {
    "collapsed": false
   }
  },
  {
   "cell_type": "code",
   "execution_count": 40,
   "outputs": [
    {
     "ename": "FileNotFoundError",
     "evalue": "[Errno 2] No such file or directory: '/Users/giuliasolinas/Documents/GitHub/TitanicKaggleML/data/summary_stats_train.tex'",
     "output_type": "error",
     "traceback": [
      "\u001B[0;31m---------------------------------------------------------------------------\u001B[0m",
      "\u001B[0;31mFileNotFoundError\u001B[0m                         Traceback (most recent call last)",
      "Cell \u001B[0;32mIn[40], line 2\u001B[0m\n\u001B[1;32m      1\u001B[0m \u001B[38;5;66;03m# remove the .tex file from the data folder within the project folder\u001B[39;00m\n\u001B[0;32m----> 2\u001B[0m \u001B[43mPath\u001B[49m\u001B[38;5;241;43m.\u001B[39;49m\u001B[43munlink\u001B[49m\u001B[43m(\u001B[49m\u001B[43mPath\u001B[49m\u001B[43m(\u001B[49m\u001B[43mcwd\u001B[49m\u001B[38;5;241;43m.\u001B[39;49m\u001B[43mparent\u001B[49m\u001B[43m,\u001B[49m\u001B[43m \u001B[49m\u001B[38;5;124;43m'\u001B[39;49m\u001B[38;5;124;43mdata\u001B[39;49m\u001B[38;5;124;43m'\u001B[39;49m\u001B[43m,\u001B[49m\u001B[43m \u001B[49m\u001B[38;5;124;43m'\u001B[39;49m\u001B[38;5;124;43msummary_stats_train.tex\u001B[39;49m\u001B[38;5;124;43m'\u001B[39;49m\u001B[43m)\u001B[49m\u001B[43m)\u001B[49m\n",
      "File \u001B[0;32m~/opt/anaconda3/lib/python3.8/pathlib.py:1325\u001B[0m, in \u001B[0;36mPath.unlink\u001B[0;34m(self, missing_ok)\u001B[0m\n\u001B[1;32m   1323\u001B[0m     \u001B[38;5;28mself\u001B[39m\u001B[38;5;241m.\u001B[39m_raise_closed()\n\u001B[1;32m   1324\u001B[0m \u001B[38;5;28;01mtry\u001B[39;00m:\n\u001B[0;32m-> 1325\u001B[0m     \u001B[38;5;28;43mself\u001B[39;49m\u001B[38;5;241;43m.\u001B[39;49m\u001B[43m_accessor\u001B[49m\u001B[38;5;241;43m.\u001B[39;49m\u001B[43munlink\u001B[49m\u001B[43m(\u001B[49m\u001B[38;5;28;43mself\u001B[39;49m\u001B[43m)\u001B[49m\n\u001B[1;32m   1326\u001B[0m \u001B[38;5;28;01mexcept\u001B[39;00m \u001B[38;5;167;01mFileNotFoundError\u001B[39;00m:\n\u001B[1;32m   1327\u001B[0m     \u001B[38;5;28;01mif\u001B[39;00m \u001B[38;5;129;01mnot\u001B[39;00m missing_ok:\n",
      "\u001B[0;31mFileNotFoundError\u001B[0m: [Errno 2] No such file or directory: '/Users/giuliasolinas/Documents/GitHub/TitanicKaggleML/data/summary_stats_train.tex'"
     ]
    }
   ],
   "source": [
    "# remove the summary_stats_train.tex file from the data folder within the project folder\n"
   ],
   "metadata": {
    "collapsed": false,
    "ExecuteTime": {
     "end_time": "2023-09-06T14:40:14.550372Z",
     "start_time": "2023-09-06T14:40:14.199767Z"
    }
   }
  },
  {
   "cell_type": "markdown",
   "source": [
    "## Creating summary graphs\n",
    "### Train dataset"
   ],
   "metadata": {
    "collapsed": false
   }
  },
  {
   "cell_type": "code",
   "execution_count": null,
   "outputs": [],
   "source": [
    "pd.plotting.scatter_matrix(df_train)"
   ],
   "metadata": {
    "collapsed": false
   }
  },
  {
   "cell_type": "code",
   "execution_count": null,
   "outputs": [],
   "source": [
    "df_train.fare.plot(kind='hist', bins=50, legend=True)\n",
    "plt.grid(True)"
   ],
   "metadata": {
    "collapsed": false
   }
  }
 ],
 "metadata": {
  "kernelspec": {
   "display_name": "Python 3",
   "language": "python",
   "name": "python3"
  },
  "language_info": {
   "codemirror_mode": {
    "name": "ipython",
    "version": 2
   },
   "file_extension": ".py",
   "mimetype": "text/x-python",
   "name": "python",
   "nbconvert_exporter": "python",
   "pygments_lexer": "ipython2",
   "version": "2.7.6"
  }
 },
 "nbformat": 4,
 "nbformat_minor": 0
}
